{
  "nbformat": 4,
  "nbformat_minor": 0,
  "metadata": {
    "colab": {
      "name": "scraping_sales_history.ipynb",
      "provenance": []
    },
    "kernelspec": {
      "name": "python3",
      "display_name": "Python 3"
    }
  },
  "cells": [
    {
      "cell_type": "code",
      "metadata": {
        "id": "CYaTWlm1a92d",
        "colab_type": "code",
        "colab": {}
      },
      "source": [
        "import pandas as pd\n",
        "import time\n",
        "df = pd.read_excel('/content/drive/My Drive/Capstone_3/Base_data/master_comm.xlsx')"
      ],
      "execution_count": 0,
      "outputs": []
    },
    {
      "cell_type": "code",
      "metadata": {
        "id": "5_w6A3pgbyc0",
        "colab_type": "code",
        "colab": {}
      },
      "source": [
        "df['Parcel'].unique()[442:]"
      ],
      "execution_count": 0,
      "outputs": []
    },
    {
      "cell_type": "code",
      "metadata": {
        "id": "APEhdrJvhqvp",
        "colab_type": "code",
        "outputId": "1fdf78a8-6851-4606-8a5f-62d1eb8029ad",
        "colab": {
          "base_uri": "https://localhost:8080/",
          "height": 54
        }
      },
      "source": [
        "df['Parcel'].unique()"
      ],
      "execution_count": 0,
      "outputs": [
        {
          "output_type": "execute_result",
          "data": {
            "text/plain": [
              "array(['05983-000-000', '06013-005-006', '06014-001-080', ...,\n",
              "       '16035-000-000', '16039-001-000', '16174-000-000'], dtype=object)"
            ]
          },
          "metadata": {
            "tags": []
          },
          "execution_count": 3
        }
      ]
    },
    {
      "cell_type": "code",
      "metadata": {
        "id": "7ceIE4wacvQr",
        "colab_type": "code",
        "colab": {}
      },
      "source": [
        "import requests\n",
        "from bs4 import BeautifulSoup\n",
        "\n",
        "test = requests.get('https://www.acpafl.org/propertysearches/parcelresults.asp?Parcel=06503-010-003').text"
      ],
      "execution_count": 0,
      "outputs": []
    },
    {
      "cell_type": "code",
      "metadata": {
        "id": "XVwpkYz7dEdy",
        "colab_type": "code",
        "colab": {}
      },
      "source": [
        "soup = BeautifulSoup(test, 'html.parser')"
      ],
      "execution_count": 0,
      "outputs": []
    },
    {
      "cell_type": "code",
      "metadata": {
        "id": "ylOlG7WUdK0j",
        "colab_type": "code",
        "outputId": "c358af09-d2f4-4cfa-e775-bb4ecddb52d2",
        "colab": {
          "base_uri": "https://localhost:8080/",
          "height": 183
        }
      },
      "source": [
        "sales_table = soup.find_all('table')[-1]\n",
        "sales_table.find_all('td')"
      ],
      "execution_count": 0,
      "outputs": [
        {
          "output_type": "execute_result",
          "data": {
            "text/plain": [
              "[<td align=\"LEFT\" valign=\"TOP\">1991-11-13</td>,\n",
              " <td align=\"RIGHT\" valign=\"TOP\">37400</td>,\n",
              " <td align=\"LEFT\" valign=\"TOP\">No</td>,\n",
              " <td align=\"LEFT\" valign=\"TOP\">Q-OLD SALE - QUALIFIED</td>,\n",
              " <td align=\"LEFT\" valign=\"TOP\">1835                </td>,\n",
              " <td align=\"LEFT\" valign=\"TOP\">2888                </td>,\n",
              " <td align=\"LEFT\" valign=\"TOP\">WD        </td>,\n",
              " <td align=\"LEFT\" valign=\"TOP\"><a href=\"http://isol.alachuaclerk.org/RealEstate/SearchDetail.aspx?docid=1104106&amp;ms=0\" target=\"Blank\">Official Public Record</a></td>]"
            ]
          },
          "metadata": {
            "tags": []
          },
          "execution_count": 20
        }
      ]
    },
    {
      "cell_type": "code",
      "metadata": {
        "id": "4X-37qzjf0DL",
        "colab_type": "code",
        "outputId": "d6466424-256b-4c93-c7c9-30f7672be722",
        "colab": {
          "base_uri": "https://localhost:8080/",
          "height": 55
        }
      },
      "source": [
        "sales_table"
      ],
      "execution_count": 0,
      "outputs": [
        {
          "output_type": "execute_result",
          "data": {
            "text/plain": [
              "<table border=\"2\" cellpadding=\"2\" cellspacing=\"0\" width=\"100%\"><tr><th align=\"LEFT\" valign=\"BOTTOM\"><a href=\"appraisaltermshelp.html#SaleDateHelp\" target=\"blank\">Date</a></th><th align=\"RIGHT\" valign=\"BOTTOM\"><a href=\"appraisaltermshelp.html#SaleAmountHelp\" target=\"blank\">Price</a></th><th align=\"LEFT\" valign=\"BOTTOM\"><a href=\"appraisaltermshelp.html#VacImpHelp\" target=\"blank\">Vac/Imp</a></th><th align=\"LEFT\" valign=\"BOTTOM\"><a href=\"appraisaltermshelp.html#QualifiedHelp\" target=\"blank\">Qualified</a></th><th align=\"LEFT\" valign=\"BOTTOM\"><a href=\"appraisaltermshelp.html#ORBookPageHelp\" target=\"blank\">OR Book</a></th><th align=\"LEFT\" valign=\"BOTTOM\"><a href=\"appraisaltermshelp.html#ORBookPageHelp\" target=\"blank\">OR Page</a></th><th align=\"LEFT\" valign=\"BOTTOM\"><a href=\"appraisaltermshelp.html#InstrumentHelp\" target=\"blank\">Instrument</a></th><th align=\"LEFT\" valign=\"BOTTOM\">OR Link (Clerk)</th></tr><tr><td align=\"LEFT\" valign=\"TOP\">1991-11-13</td><td align=\"RIGHT\" valign=\"TOP\">37400</td><td align=\"LEFT\" valign=\"TOP\">No</td><td align=\"LEFT\" valign=\"TOP\">Q-OLD SALE - QUALIFIED</td><td align=\"LEFT\" valign=\"TOP\">1835                </td><td align=\"LEFT\" valign=\"TOP\">2888                </td><td align=\"LEFT\" valign=\"TOP\">WD        </td><td align=\"LEFT\" valign=\"TOP\"><a href=\"http://isol.alachuaclerk.org/RealEstate/SearchDetail.aspx?docid=1104106&amp;ms=0\" target=\"Blank\">Official Public Record</a></td></tr></table>"
            ]
          },
          "metadata": {
            "tags": []
          },
          "execution_count": 22
        }
      ]
    },
    {
      "cell_type": "code",
      "metadata": {
        "id": "e875EbDdfuVJ",
        "colab_type": "code",
        "colab": {}
      },
      "source": [
        "parcel_number='06474-009-000'\n",
        "csv_intro = pd.read_html(f'https://www.acpafl.org/propertysearches/parcelresults.asp?Parcel={parcel_number}')[-1][['Date','Price']]"
      ],
      "execution_count": 0,
      "outputs": []
    },
    {
      "cell_type": "code",
      "metadata": {
        "id": "_5WAB8N_goRU",
        "colab_type": "code",
        "colab": {}
      },
      "source": [
        "csv_intro.to_csv(f'sample_data/{parcel_number}.csv', index=False)"
      ],
      "execution_count": 0,
      "outputs": []
    },
    {
      "cell_type": "code",
      "metadata": {
        "id": "ivYOmXhBh3AN",
        "colab_type": "code",
        "outputId": "13c8ec0c-9310-4bc0-81aa-db07d09b7bb1",
        "colab": {
          "base_uri": "https://localhost:8080/",
          "height": 168
        }
      },
      "source": [
        "csv_intro['Parcel'] = parcel_number\n",
        "csv_intro"
      ],
      "execution_count": 0,
      "outputs": [
        {
          "output_type": "execute_result",
          "data": {
            "text/html": [
              "<div>\n",
              "<style scoped>\n",
              "    .dataframe tbody tr th:only-of-type {\n",
              "        vertical-align: middle;\n",
              "    }\n",
              "\n",
              "    .dataframe tbody tr th {\n",
              "        vertical-align: top;\n",
              "    }\n",
              "\n",
              "    .dataframe thead th {\n",
              "        text-align: right;\n",
              "    }\n",
              "</style>\n",
              "<table border=\"1\" class=\"dataframe\">\n",
              "  <thead>\n",
              "    <tr style=\"text-align: right;\">\n",
              "      <th></th>\n",
              "      <th>Date</th>\n",
              "      <th>Price</th>\n",
              "      <th>Parcel</th>\n",
              "    </tr>\n",
              "  </thead>\n",
              "  <tbody>\n",
              "    <tr>\n",
              "      <th>0</th>\n",
              "      <td>2005-09-30</td>\n",
              "      <td>515000</td>\n",
              "      <td>06474-009-000</td>\n",
              "    </tr>\n",
              "    <tr>\n",
              "      <th>1</th>\n",
              "      <td>1984-09-01</td>\n",
              "      <td>100000</td>\n",
              "      <td>06474-009-000</td>\n",
              "    </tr>\n",
              "    <tr>\n",
              "      <th>2</th>\n",
              "      <td>1983-05-01</td>\n",
              "      <td>100000</td>\n",
              "      <td>06474-009-000</td>\n",
              "    </tr>\n",
              "    <tr>\n",
              "      <th>3</th>\n",
              "      <td>1982-02-01</td>\n",
              "      <td>0</td>\n",
              "      <td>06474-009-000</td>\n",
              "    </tr>\n",
              "  </tbody>\n",
              "</table>\n",
              "</div>"
            ],
            "text/plain": [
              "         Date   Price         Parcel\n",
              "0  2005-09-30  515000  06474-009-000\n",
              "1  1984-09-01  100000  06474-009-000\n",
              "2  1983-05-01  100000  06474-009-000\n",
              "3  1982-02-01       0  06474-009-000"
            ]
          },
          "metadata": {
            "tags": []
          },
          "execution_count": 51
        }
      ]
    },
    {
      "cell_type": "code",
      "metadata": {
        "id": "RUEJI1ogiB1D",
        "colab_type": "code",
        "colab": {}
      },
      "source": [
        "parcel_number1='06501-010-000'\n",
        "csv_intro1 = pd.read_html(f'https://www.acpafl.org/propertysearches/parcelresults.asp?Parcel={parcel_number}')[-1][['Date','Price','Vac/Imp']]"
      ],
      "execution_count": 0,
      "outputs": []
    },
    {
      "cell_type": "code",
      "metadata": {
        "id": "GKlObEWeiYSs",
        "colab_type": "code",
        "outputId": "f2b15920-ac19-4728-e51c-67a1847f9c07",
        "colab": {
          "base_uri": "https://localhost:8080/",
          "height": 168
        }
      },
      "source": [
        "csv_intro1['Parcel'] = parcel_number1\n",
        "csv_intro1"
      ],
      "execution_count": 0,
      "outputs": [
        {
          "output_type": "execute_result",
          "data": {
            "text/html": [
              "<div>\n",
              "<style scoped>\n",
              "    .dataframe tbody tr th:only-of-type {\n",
              "        vertical-align: middle;\n",
              "    }\n",
              "\n",
              "    .dataframe tbody tr th {\n",
              "        vertical-align: top;\n",
              "    }\n",
              "\n",
              "    .dataframe thead th {\n",
              "        text-align: right;\n",
              "    }\n",
              "</style>\n",
              "<table border=\"1\" class=\"dataframe\">\n",
              "  <thead>\n",
              "    <tr style=\"text-align: right;\">\n",
              "      <th></th>\n",
              "      <th>Date</th>\n",
              "      <th>Price</th>\n",
              "      <th>Vac/Imp</th>\n",
              "      <th>Parcel</th>\n",
              "    </tr>\n",
              "  </thead>\n",
              "  <tbody>\n",
              "    <tr>\n",
              "      <th>0</th>\n",
              "      <td>2005-09-30</td>\n",
              "      <td>515000</td>\n",
              "      <td>No</td>\n",
              "      <td>06501-010-000</td>\n",
              "    </tr>\n",
              "    <tr>\n",
              "      <th>1</th>\n",
              "      <td>1984-09-01</td>\n",
              "      <td>100000</td>\n",
              "      <td>Vac</td>\n",
              "      <td>06501-010-000</td>\n",
              "    </tr>\n",
              "    <tr>\n",
              "      <th>2</th>\n",
              "      <td>1983-05-01</td>\n",
              "      <td>100000</td>\n",
              "      <td>Vac</td>\n",
              "      <td>06501-010-000</td>\n",
              "    </tr>\n",
              "    <tr>\n",
              "      <th>3</th>\n",
              "      <td>1982-02-01</td>\n",
              "      <td>0</td>\n",
              "      <td>Vac</td>\n",
              "      <td>06501-010-000</td>\n",
              "    </tr>\n",
              "  </tbody>\n",
              "</table>\n",
              "</div>"
            ],
            "text/plain": [
              "         Date   Price Vac/Imp         Parcel\n",
              "0  2005-09-30  515000      No  06501-010-000\n",
              "1  1984-09-01  100000     Vac  06501-010-000\n",
              "2  1983-05-01  100000     Vac  06501-010-000\n",
              "3  1982-02-01       0     Vac  06501-010-000"
            ]
          },
          "metadata": {
            "tags": []
          },
          "execution_count": 73
        }
      ]
    },
    {
      "cell_type": "code",
      "metadata": {
        "id": "SJVvCtWZiMfa",
        "colab_type": "code",
        "outputId": "a4c4f2e9-22bb-4b9f-d866-922ac83e8977",
        "colab": {
          "base_uri": "https://localhost:8080/",
          "height": 288
        }
      },
      "source": [
        "pd.concat([csv_intro,csv_intro1])"
      ],
      "execution_count": 0,
      "outputs": [
        {
          "output_type": "execute_result",
          "data": {
            "text/html": [
              "<div>\n",
              "<style scoped>\n",
              "    .dataframe tbody tr th:only-of-type {\n",
              "        vertical-align: middle;\n",
              "    }\n",
              "\n",
              "    .dataframe tbody tr th {\n",
              "        vertical-align: top;\n",
              "    }\n",
              "\n",
              "    .dataframe thead th {\n",
              "        text-align: right;\n",
              "    }\n",
              "</style>\n",
              "<table border=\"1\" class=\"dataframe\">\n",
              "  <thead>\n",
              "    <tr style=\"text-align: right;\">\n",
              "      <th></th>\n",
              "      <th>Date</th>\n",
              "      <th>Price</th>\n",
              "      <th>Parcel</th>\n",
              "    </tr>\n",
              "  </thead>\n",
              "  <tbody>\n",
              "    <tr>\n",
              "      <th>0</th>\n",
              "      <td>2005-09-30</td>\n",
              "      <td>515000</td>\n",
              "      <td>06474-009-000</td>\n",
              "    </tr>\n",
              "    <tr>\n",
              "      <th>1</th>\n",
              "      <td>1984-09-01</td>\n",
              "      <td>100000</td>\n",
              "      <td>06474-009-000</td>\n",
              "    </tr>\n",
              "    <tr>\n",
              "      <th>2</th>\n",
              "      <td>1983-05-01</td>\n",
              "      <td>100000</td>\n",
              "      <td>06474-009-000</td>\n",
              "    </tr>\n",
              "    <tr>\n",
              "      <th>3</th>\n",
              "      <td>1982-02-01</td>\n",
              "      <td>0</td>\n",
              "      <td>06474-009-000</td>\n",
              "    </tr>\n",
              "    <tr>\n",
              "      <th>0</th>\n",
              "      <td>2005-09-30</td>\n",
              "      <td>515000</td>\n",
              "      <td>06501-010-000</td>\n",
              "    </tr>\n",
              "    <tr>\n",
              "      <th>1</th>\n",
              "      <td>1984-09-01</td>\n",
              "      <td>100000</td>\n",
              "      <td>06501-010-000</td>\n",
              "    </tr>\n",
              "    <tr>\n",
              "      <th>2</th>\n",
              "      <td>1983-05-01</td>\n",
              "      <td>100000</td>\n",
              "      <td>06501-010-000</td>\n",
              "    </tr>\n",
              "    <tr>\n",
              "      <th>3</th>\n",
              "      <td>1982-02-01</td>\n",
              "      <td>0</td>\n",
              "      <td>06501-010-000</td>\n",
              "    </tr>\n",
              "  </tbody>\n",
              "</table>\n",
              "</div>"
            ],
            "text/plain": [
              "         Date   Price         Parcel\n",
              "0  2005-09-30  515000  06474-009-000\n",
              "1  1984-09-01  100000  06474-009-000\n",
              "2  1983-05-01  100000  06474-009-000\n",
              "3  1982-02-01       0  06474-009-000\n",
              "0  2005-09-30  515000  06501-010-000\n",
              "1  1984-09-01  100000  06501-010-000\n",
              "2  1983-05-01  100000  06501-010-000\n",
              "3  1982-02-01       0  06501-010-000"
            ]
          },
          "metadata": {
            "tags": []
          },
          "execution_count": 54
        }
      ]
    },
    {
      "cell_type": "code",
      "metadata": {
        "id": "30civYYziqVL",
        "colab_type": "code",
        "colab": {}
      },
      "source": [
        "test_df = pd.DataFrame()\n",
        "\n",
        "for parcel in df['Parcel'].unique():\n",
        "  temp_df = pd.read_html(f'https://www.acpafl.org/propertysearches/parcelresults.asp?Parcel={parcel}')[-1][['Date','Price','Vac/Imp']]\n",
        "  temp_df['Parcel'] = parcel\n",
        "  test_df = pd.concat([test_df,temp_df])\n",
        "  #time.sleep(0.5) to not delay\n",
        "  "
      ],
      "execution_count": 0,
      "outputs": []
    },
    {
      "cell_type": "code",
      "metadata": {
        "id": "B4_kPxq6jSYk",
        "colab_type": "code",
        "colab": {}
      },
      "source": [
        "test_df = test_df.sort_values(by=['Parcel','Date'])"
      ],
      "execution_count": 0,
      "outputs": []
    },
    {
      "cell_type": "code",
      "metadata": {
        "id": "kZjlevaVk0cU",
        "colab_type": "code",
        "colab": {}
      },
      "source": [
        "test_df['pct_change'] = test_df.groupby('Parcel')['Price'].apply(pd.Series.pct_change)"
      ],
      "execution_count": 0,
      "outputs": []
    },
    {
      "cell_type": "code",
      "metadata": {
        "id": "xUTmU09llQ2X",
        "colab_type": "code",
        "outputId": "19b112dd-9424-49b5-8163-450d61f8d38d",
        "colab": {
          "base_uri": "https://localhost:8080/",
          "height": 407
        }
      },
      "source": [
        "test_df"
      ],
      "execution_count": 0,
      "outputs": [
        {
          "output_type": "execute_result",
          "data": {
            "text/html": [
              "<div>\n",
              "<style scoped>\n",
              "    .dataframe tbody tr th:only-of-type {\n",
              "        vertical-align: middle;\n",
              "    }\n",
              "\n",
              "    .dataframe tbody tr th {\n",
              "        vertical-align: top;\n",
              "    }\n",
              "\n",
              "    .dataframe thead th {\n",
              "        text-align: right;\n",
              "    }\n",
              "</style>\n",
              "<table border=\"1\" class=\"dataframe\">\n",
              "  <thead>\n",
              "    <tr style=\"text-align: right;\">\n",
              "      <th></th>\n",
              "      <th>Date</th>\n",
              "      <th>Price</th>\n",
              "      <th>Vac/Imp</th>\n",
              "      <th>Parcel</th>\n",
              "    </tr>\n",
              "  </thead>\n",
              "  <tbody>\n",
              "    <tr>\n",
              "      <th>0</th>\n",
              "      <td>2013-04-05</td>\n",
              "      <td>3526500</td>\n",
              "      <td>No</td>\n",
              "      <td>05983-000-000</td>\n",
              "    </tr>\n",
              "    <tr>\n",
              "      <th>1</th>\n",
              "      <td>2002-04-19</td>\n",
              "      <td>3000000</td>\n",
              "      <td>No</td>\n",
              "      <td>05983-000-000</td>\n",
              "    </tr>\n",
              "    <tr>\n",
              "      <th>2</th>\n",
              "      <td>1999-08-16</td>\n",
              "      <td>3000000</td>\n",
              "      <td>No</td>\n",
              "      <td>05983-000-000</td>\n",
              "    </tr>\n",
              "    <tr>\n",
              "      <th>3</th>\n",
              "      <td>1970-01-17</td>\n",
              "      <td>100</td>\n",
              "      <td>Vac</td>\n",
              "      <td>05983-000-000</td>\n",
              "    </tr>\n",
              "    <tr>\n",
              "      <th>4</th>\n",
              "      <td>1967-04-12</td>\n",
              "      <td>100</td>\n",
              "      <td>Vac</td>\n",
              "      <td>05983-000-000</td>\n",
              "    </tr>\n",
              "    <tr>\n",
              "      <th>...</th>\n",
              "      <td>...</td>\n",
              "      <td>...</td>\n",
              "      <td>...</td>\n",
              "      <td>...</td>\n",
              "    </tr>\n",
              "    <tr>\n",
              "      <th>6</th>\n",
              "      <td>1982-04-01</td>\n",
              "      <td>100</td>\n",
              "      <td>Vac</td>\n",
              "      <td>16039-001-000</td>\n",
              "    </tr>\n",
              "    <tr>\n",
              "      <th>0</th>\n",
              "      <td>2002-12-17</td>\n",
              "      <td>100</td>\n",
              "      <td>No</td>\n",
              "      <td>16174-000-000</td>\n",
              "    </tr>\n",
              "    <tr>\n",
              "      <th>1</th>\n",
              "      <td>1998-08-20</td>\n",
              "      <td>165000</td>\n",
              "      <td>No</td>\n",
              "      <td>16174-000-000</td>\n",
              "    </tr>\n",
              "    <tr>\n",
              "      <th>2</th>\n",
              "      <td>1993-06-09</td>\n",
              "      <td>117500</td>\n",
              "      <td>No</td>\n",
              "      <td>16174-000-000</td>\n",
              "    </tr>\n",
              "    <tr>\n",
              "      <th>3</th>\n",
              "      <td>1981-07-01</td>\n",
              "      <td>75000</td>\n",
              "      <td>Vac</td>\n",
              "      <td>16174-000-000</td>\n",
              "    </tr>\n",
              "  </tbody>\n",
              "</table>\n",
              "<p>5362 rows × 4 columns</p>\n",
              "</div>"
            ],
            "text/plain": [
              "          Date    Price Vac/Imp         Parcel\n",
              "0   2013-04-05  3526500      No  05983-000-000\n",
              "1   2002-04-19  3000000      No  05983-000-000\n",
              "2   1999-08-16  3000000      No  05983-000-000\n",
              "3   1970-01-17      100     Vac  05983-000-000\n",
              "4   1967-04-12      100     Vac  05983-000-000\n",
              "..         ...      ...     ...            ...\n",
              "6   1982-04-01      100     Vac  16039-001-000\n",
              "0   2002-12-17      100      No  16174-000-000\n",
              "1   1998-08-20   165000      No  16174-000-000\n",
              "2   1993-06-09   117500      No  16174-000-000\n",
              "3   1981-07-01    75000     Vac  16174-000-000\n",
              "\n",
              "[5362 rows x 4 columns]"
            ]
          },
          "metadata": {
            "tags": []
          },
          "execution_count": 75
        }
      ]
    },
    {
      "cell_type": "code",
      "metadata": {
        "id": "PkI_PD5N-H0M",
        "colab_type": "code",
        "colab": {}
      },
      "source": [
        "test_df.to_csv(f'/content/drive/My Drive/Capstone_3/Base_data/sales_hist.csv', index=False)"
      ],
      "execution_count": 0,
      "outputs": []
    },
    {
      "cell_type": "markdown",
      "metadata": {
        "id": "_aq72laX-pCq",
        "colab_type": "text"
      },
      "source": [
        "Same process, but working on getting extra parcel details"
      ]
    },
    {
      "cell_type": "code",
      "metadata": {
        "id": "sW44EaFb-n-y",
        "colab_type": "code",
        "colab": {}
      },
      "source": [
        "details_df = pd.read_html('https://www.acpafl.org/propertysearches/parcelresults.asp?Parcel=06474-008-001')"
      ],
      "execution_count": 0,
      "outputs": []
    },
    {
      "cell_type": "code",
      "metadata": {
        "id": "yc3apKG_A3YG",
        "colab_type": "code",
        "outputId": "1551cb22-dc3c-4fc6-f782-ec384596ed2d",
        "colab": {
          "base_uri": "https://localhost:8080/",
          "height": 113
        }
      },
      "source": [
        "details_df[7]"
      ],
      "execution_count": 0,
      "outputs": [
        {
          "output_type": "execute_result",
          "data": {
            "text/html": [
              "<div>\n",
              "<style scoped>\n",
              "    .dataframe tbody tr th:only-of-type {\n",
              "        vertical-align: middle;\n",
              "    }\n",
              "\n",
              "    .dataframe tbody tr th {\n",
              "        vertical-align: top;\n",
              "    }\n",
              "\n",
              "    .dataframe thead th {\n",
              "        text-align: right;\n",
              "    }\n",
              "</style>\n",
              "<table border=\"1\" class=\"dataframe\">\n",
              "  <thead>\n",
              "    <tr style=\"text-align: right;\">\n",
              "      <th></th>\n",
              "      <th>Land Use</th>\n",
              "      <th>Land Use Desc</th>\n",
              "      <th>Zoning Type</th>\n",
              "      <th>Zoning Desc</th>\n",
              "      <th>Lots</th>\n",
              "      <th>Acres</th>\n",
              "      <th>Sq Feet</th>\n",
              "      <th>Land Type</th>\n",
              "    </tr>\n",
              "  </thead>\n",
              "  <tbody>\n",
              "    <tr>\n",
              "      <th>0</th>\n",
              "      <td>1800</td>\n",
              "      <td>OFFICE MULTI STORY</td>\n",
              "      <td>OF</td>\n",
              "      <td>COMMERCIAL</td>\n",
              "      <td>1</td>\n",
              "      <td>0.3413</td>\n",
              "      <td>14865.88</td>\n",
              "      <td>SF</td>\n",
              "    </tr>\n",
              "  </tbody>\n",
              "</table>\n",
              "</div>"
            ],
            "text/plain": [
              "   Land Use       Land Use Desc Zoning Type  ...   Acres   Sq Feet  Land Type\n",
              "0      1800  OFFICE MULTI STORY          OF  ...  0.3413  14865.88         SF\n",
              "\n",
              "[1 rows x 8 columns]"
            ]
          },
          "metadata": {
            "tags": []
          },
          "execution_count": 92
        }
      ]
    },
    {
      "cell_type": "code",
      "metadata": {
        "id": "_VuFKdSCBoPD",
        "colab_type": "code",
        "colab": {}
      },
      "source": [
        "zoning_info_df = pd.DataFrame()\n",
        "\n",
        "for parcel in df['Parcel'].unique():\n",
        "  temp_df = pd.read_html(f'https://www.acpafl.org/propertysearches/parcelresults.asp?Parcel={parcel}')[7][['Land Use Desc','Zoning Type','Zoning Desc']]\n",
        "  temp_df['Parcel'] = parcel\n",
        "  zoning_info_df = pd.concat([zoning_info_df,temp_df])"
      ],
      "execution_count": 0,
      "outputs": []
    },
    {
      "cell_type": "code",
      "metadata": {
        "id": "fEoARc69LNw9",
        "colab_type": "code",
        "colab": {}
      },
      "source": [
        "zoning_info_df.to_csv(f'/content/drive/My Drive/Capstone_3/Base_data/prop_info.csv', index=False)"
      ],
      "execution_count": 0,
      "outputs": []
    },
    {
      "cell_type": "code",
      "metadata": {
        "id": "xtJmQFDOSLWx",
        "colab_type": "code",
        "outputId": "8609cfa7-6c27-4611-a369-1b3939e3a720",
        "colab": {
          "base_uri": "https://localhost:8080/",
          "height": 72
        }
      },
      "source": [
        "details_df[8].columns"
      ],
      "execution_count": 0,
      "outputs": [
        {
          "output_type": "execute_result",
          "data": {
            "text/plain": [
              "Index(['Improvement Use Code', 'Improvement Desc', 'Actual Year Built',\n",
              "       'Effective Year Built', 'Htd Square Feet', 'Stories'],\n",
              "      dtype='object')"
            ]
          },
          "metadata": {
            "tags": []
          },
          "execution_count": 97
        }
      ]
    },
    {
      "cell_type": "code",
      "metadata": {
        "id": "s26TNOdxShia",
        "colab_type": "code",
        "outputId": "8c04acea-950f-4554-c7c0-ab9462f09818",
        "colab": {
          "base_uri": "https://localhost:8080/",
          "height": 145
        }
      },
      "source": [
        "yearbuilt_df_cols = ['Improvement Desc', 'Actual Year Built','Effective Year Built', 'Stories']\n",
        "\n",
        "yearbuilt_info_df = pd.DataFrame()\n",
        "\n",
        "for parcel in df['Parcel'].unique():\n",
        "  try:\n",
        "    temp_df = pd.read_html(f'https://www.acpafl.org/propertysearches/parcelresults.asp?Parcel={parcel}')[8][['Improvement Desc', 'Actual Year Built','Effective Year Built', 'Stories']]\n",
        "    temp_df['Parcel'] = parcel\n",
        "    yearbuilt_info_df = pd.concat([yearbuilt_info_df,temp_df])\n",
        "  except:\n",
        "    print(parcel)\n",
        "    pass"
      ],
      "execution_count": 0,
      "outputs": [
        {
          "output_type": "stream",
          "text": [
            "06800-010-001\n",
            "12620-000-000\n",
            "13423-000-000\n",
            "14560-000-000\n",
            "15238-000-000\n",
            "15620-001-000\n",
            "16039-001-000\n"
          ],
          "name": "stdout"
        }
      ]
    },
    {
      "cell_type": "code",
      "metadata": {
        "id": "aid-InghUZ9Z",
        "colab_type": "code",
        "colab": {}
      },
      "source": [
        "yearbuilt_info_df.to_csv(f'/content/drive/My Drive/Capstone_3/Base_data/yearbuilt_info_master.csv', index=False)"
      ],
      "execution_count": 0,
      "outputs": []
    },
    {
      "cell_type": "code",
      "metadata": {
        "id": "1wnXy7MZYojz",
        "colab_type": "code",
        "outputId": "3c5c983c-4803-4bff-f604-b40e8c8b8fbd",
        "colab": {
          "base_uri": "https://localhost:8080/",
          "height": 407
        }
      },
      "source": [
        "yearbuilt_info_df"
      ],
      "execution_count": 0,
      "outputs": [
        {
          "output_type": "execute_result",
          "data": {
            "text/html": [
              "<div>\n",
              "<style scoped>\n",
              "    .dataframe tbody tr th:only-of-type {\n",
              "        vertical-align: middle;\n",
              "    }\n",
              "\n",
              "    .dataframe tbody tr th {\n",
              "        vertical-align: top;\n",
              "    }\n",
              "\n",
              "    .dataframe thead th {\n",
              "        text-align: right;\n",
              "    }\n",
              "</style>\n",
              "<table border=\"1\" class=\"dataframe\">\n",
              "  <thead>\n",
              "    <tr style=\"text-align: right;\">\n",
              "      <th></th>\n",
              "      <th>Improvement Desc</th>\n",
              "      <th>Actual Year Built</th>\n",
              "      <th>Effective Year Built</th>\n",
              "      <th>Stories</th>\n",
              "      <th>Parcel</th>\n",
              "    </tr>\n",
              "  </thead>\n",
              "  <tbody>\n",
              "    <tr>\n",
              "      <th>0</th>\n",
              "      <td>OFFICE LOW RISE</td>\n",
              "      <td>1973.0</td>\n",
              "      <td>1985.0</td>\n",
              "      <td>1.0</td>\n",
              "      <td>05983-000-000</td>\n",
              "    </tr>\n",
              "    <tr>\n",
              "      <th>0</th>\n",
              "      <td>SERVICE SHOP</td>\n",
              "      <td>1976.0</td>\n",
              "      <td>1976.0</td>\n",
              "      <td>1.0</td>\n",
              "      <td>06013-005-006</td>\n",
              "    </tr>\n",
              "    <tr>\n",
              "      <th>0</th>\n",
              "      <td>SUPERMARKET NBHD/CONV</td>\n",
              "      <td>1976.0</td>\n",
              "      <td>1976.0</td>\n",
              "      <td>1.0</td>\n",
              "      <td>06014-001-080</td>\n",
              "    </tr>\n",
              "    <tr>\n",
              "      <th>0</th>\n",
              "      <td>OFFICE LOW RISE</td>\n",
              "      <td>1981.0</td>\n",
              "      <td>1981.0</td>\n",
              "      <td>1.0</td>\n",
              "      <td>06014-005-000</td>\n",
              "    </tr>\n",
              "    <tr>\n",
              "      <th>0</th>\n",
              "      <td>SH CTR NBRHD</td>\n",
              "      <td>1989.0</td>\n",
              "      <td>1989.0</td>\n",
              "      <td>1.0</td>\n",
              "      <td>06014-030-000</td>\n",
              "    </tr>\n",
              "    <tr>\n",
              "      <th>...</th>\n",
              "      <td>...</td>\n",
              "      <td>...</td>\n",
              "      <td>...</td>\n",
              "      <td>...</td>\n",
              "      <td>...</td>\n",
              "    </tr>\n",
              "    <tr>\n",
              "      <th>0</th>\n",
              "      <td>SERVICE SHOP</td>\n",
              "      <td>1975.0</td>\n",
              "      <td>1975.0</td>\n",
              "      <td>1.0</td>\n",
              "      <td>15954-009-000</td>\n",
              "    </tr>\n",
              "    <tr>\n",
              "      <th>0</th>\n",
              "      <td>SUPERMARKET NBHD/CONV</td>\n",
              "      <td>1965.0</td>\n",
              "      <td>1974.0</td>\n",
              "      <td>1.0</td>\n",
              "      <td>15969-002-000</td>\n",
              "    </tr>\n",
              "    <tr>\n",
              "      <th>0</th>\n",
              "      <td>WAREHOUSE STORAGE</td>\n",
              "      <td>1959.0</td>\n",
              "      <td>1959.0</td>\n",
              "      <td>1.0</td>\n",
              "      <td>16003-000-000</td>\n",
              "    </tr>\n",
              "    <tr>\n",
              "      <th>0</th>\n",
              "      <td>STORE RETAIL</td>\n",
              "      <td>1973.0</td>\n",
              "      <td>1973.0</td>\n",
              "      <td>1.0</td>\n",
              "      <td>16035-000-000</td>\n",
              "    </tr>\n",
              "    <tr>\n",
              "      <th>0</th>\n",
              "      <td>OFFICE LOW RISE</td>\n",
              "      <td>1982.0</td>\n",
              "      <td>1985.0</td>\n",
              "      <td>1.0</td>\n",
              "      <td>16174-000-000</td>\n",
              "    </tr>\n",
              "  </tbody>\n",
              "</table>\n",
              "<p>1246 rows × 5 columns</p>\n",
              "</div>"
            ],
            "text/plain": [
              "         Improvement Desc  Actual Year Built  ...  Stories         Parcel\n",
              "0         OFFICE LOW RISE             1973.0  ...      1.0  05983-000-000\n",
              "0            SERVICE SHOP             1976.0  ...      1.0  06013-005-006\n",
              "0   SUPERMARKET NBHD/CONV             1976.0  ...      1.0  06014-001-080\n",
              "0         OFFICE LOW RISE             1981.0  ...      1.0  06014-005-000\n",
              "0            SH CTR NBRHD             1989.0  ...      1.0  06014-030-000\n",
              "..                    ...                ...  ...      ...            ...\n",
              "0            SERVICE SHOP             1975.0  ...      1.0  15954-009-000\n",
              "0   SUPERMARKET NBHD/CONV             1965.0  ...      1.0  15969-002-000\n",
              "0       WAREHOUSE STORAGE             1959.0  ...      1.0  16003-000-000\n",
              "0            STORE RETAIL             1973.0  ...      1.0  16035-000-000\n",
              "0         OFFICE LOW RISE             1982.0  ...      1.0  16174-000-000\n",
              "\n",
              "[1246 rows x 5 columns]"
            ]
          },
          "metadata": {
            "tags": []
          },
          "execution_count": 22
        }
      ]
    }
  ]
}