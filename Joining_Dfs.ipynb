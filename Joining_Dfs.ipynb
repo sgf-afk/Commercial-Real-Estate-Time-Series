{
  "nbformat": 4,
  "nbformat_minor": 0,
  "metadata": {
    "colab": {
      "name": "Joining_Dfs.ipynb",
      "provenance": [],
      "collapsed_sections": []
    },
    "kernelspec": {
      "name": "python3",
      "display_name": "Python 3"
    }
  },
  "cells": [
    {
      "cell_type": "code",
      "metadata": {
        "id": "GH991jKQtHE6",
        "colab_type": "code",
        "colab": {}
      },
      "source": [
        "import pandas as pd\n",
        "import numpy as np\n",
        "\n",
        "main_comm_df = pd.read_excel('/content/drive/My Drive/Capstone_3/Base_data/master_comm.xlsx')\n",
        "\n",
        "prop_info_df = pd.read_csv('/content/drive/My Drive/Capstone_3/Base_data/prop_info.csv')\n",
        "\n",
        "sales_hist_df = pd.read_csv('/content/drive/My Drive/Capstone_3/Base_data/sales_hist.csv')\n",
        "\n",
        "year_built_df = pd.read_csv('/content/drive/My Drive/Capstone_3/Base_data/yearbuilt_info_master.csv')"
      ],
      "execution_count": 0,
      "outputs": []
    },
    {
      "cell_type": "code",
      "metadata": {
        "id": "rHC6GUc6Soix",
        "colab_type": "code",
        "colab": {}
      },
      "source": [
        "main_comm_df"
      ],
      "execution_count": 0,
      "outputs": []
    },
    {
      "cell_type": "code",
      "metadata": {
        "id": "7T3HUy1HTE64",
        "colab_type": "code",
        "outputId": "0b9effcd-576e-4b7d-8951-ed4d6d9ba7dc",
        "colab": {
          "base_uri": "https://localhost:8080/",
          "height": 153
        }
      },
      "source": [
        "main_comm_df.columns"
      ],
      "execution_count": 0,
      "outputs": [
        {
          "output_type": "execute_result",
          "data": {
            "text/plain": [
              "Index(['Source.Name', 'Owner_Mail_Name', 'Owner_Mail_Addr2', 'Owner_Mail_City',\n",
              "       'Owner_Mail_State', 'Prop_Use_Code', 'Prop_Use_Desc', 'NBHD_Code',\n",
              "       'NBHD_Desc', 'HtdSqFt', 'Acres', 'SBDV_Code', 'SBDV_Desc', 'Land_Value',\n",
              "       'Improvement_Value', 'Deferred_Value', 'County_Exempt_Amount',\n",
              "       'School_Exempt_Amount', 'Loc_Address', 'Sale_Date', 'Sale_Price',\n",
              "       'Parcel', 'Year Built', 'Effective Year Built', 'Sale_Vac_Imp',\n",
              "       'Sale_Qualified'],\n",
              "      dtype='object')"
            ]
          },
          "metadata": {
            "tags": []
          },
          "execution_count": 2
        }
      ]
    },
    {
      "cell_type": "code",
      "metadata": {
        "id": "uPYayrRRS_NU",
        "colab_type": "code",
        "colab": {}
      },
      "source": [
        "comm_df = main_comm_df.drop(columns = ['Source.Name', 'Owner_Mail_Addr2', 'Owner_Mail_City', 'Owner_Mail_State', \n",
        "                                       'NBHD_Code', 'SBDV_Code', 'SBDV_Desc', 'Deferred_Value', 'County_Exempt_Amount',\n",
        "                                       'School_Exempt_Amount', 'Sale_Date', 'Sale_Price', 'Effective Year Built', 'Sale_Vac_Imp',\n",
        "                                       'Sale_Qualified', 'Year Built'])"
      ],
      "execution_count": 0,
      "outputs": []
    },
    {
      "cell_type": "code",
      "metadata": {
        "id": "Zsx7czQbazGs",
        "colab_type": "code",
        "colab": {}
      },
      "source": [
        "comm_df = comm_df.drop_duplicates(subset='Parcel')"
      ],
      "execution_count": 0,
      "outputs": []
    },
    {
      "cell_type": "code",
      "metadata": {
        "id": "eaLd0FowcA0B",
        "colab_type": "code",
        "outputId": "2578f51b-2b34-4192-cdd4-7f563b7ffa07",
        "colab": {
          "base_uri": "https://localhost:8080/",
          "height": 419
        }
      },
      "source": [
        "comm_df"
      ],
      "execution_count": 0,
      "outputs": [
        {
          "output_type": "execute_result",
          "data": {
            "text/html": [
              "<div>\n",
              "<style scoped>\n",
              "    .dataframe tbody tr th:only-of-type {\n",
              "        vertical-align: middle;\n",
              "    }\n",
              "\n",
              "    .dataframe tbody tr th {\n",
              "        vertical-align: top;\n",
              "    }\n",
              "\n",
              "    .dataframe thead th {\n",
              "        text-align: right;\n",
              "    }\n",
              "</style>\n",
              "<table border=\"1\" class=\"dataframe\">\n",
              "  <thead>\n",
              "    <tr style=\"text-align: right;\">\n",
              "      <th></th>\n",
              "      <th>Owner_Mail_Name</th>\n",
              "      <th>Prop_Use_Code</th>\n",
              "      <th>Prop_Use_Desc</th>\n",
              "      <th>NBHD_Desc</th>\n",
              "      <th>HtdSqFt</th>\n",
              "      <th>Acres</th>\n",
              "      <th>Land_Value</th>\n",
              "      <th>Improvement_Value</th>\n",
              "      <th>Loc_Address</th>\n",
              "      <th>Parcel</th>\n",
              "    </tr>\n",
              "  </thead>\n",
              "  <tbody>\n",
              "    <tr>\n",
              "      <th>0</th>\n",
              "      <td>WHITNEY MHC LLC</td>\n",
              "      <td>2800.0</td>\n",
              "      <td>PKG LOT (COMM)</td>\n",
              "      <td>441 COMMERCIAL</td>\n",
              "      <td>1512.0</td>\n",
              "      <td>52.4100</td>\n",
              "      <td>1972100.0</td>\n",
              "      <td>713900.0</td>\n",
              "      <td>8401 NW 13TH ST LOT T42</td>\n",
              "      <td>05983-000-000</td>\n",
              "    </tr>\n",
              "    <tr>\n",
              "      <th>3</th>\n",
              "      <td>NJ3 LLC</td>\n",
              "      <td>2500.0</td>\n",
              "      <td>SERVICE SHOPS</td>\n",
              "      <td>NW INDUSTRIAL</td>\n",
              "      <td>2896.0</td>\n",
              "      <td>2.3200</td>\n",
              "      <td>354011.0</td>\n",
              "      <td>99973.0</td>\n",
              "      <td>2546 NW 74TH PL</td>\n",
              "      <td>06013-005-006</td>\n",
              "    </tr>\n",
              "    <tr>\n",
              "      <th>6</th>\n",
              "      <td>THE PANTRY INC</td>\n",
              "      <td>1100.0</td>\n",
              "      <td>STORES</td>\n",
              "      <td>NORTHWOOD COMMERCIAL</td>\n",
              "      <td>1992.0</td>\n",
              "      <td>0.4100</td>\n",
              "      <td>80366.0</td>\n",
              "      <td>103184.0</td>\n",
              "      <td>5708 NW 34TH BLVD</td>\n",
              "      <td>06014-001-080</td>\n",
              "    </tr>\n",
              "    <tr>\n",
              "      <th>7</th>\n",
              "      <td>NW OAKS LLC</td>\n",
              "      <td>1700.0</td>\n",
              "      <td>OFFICE 1 STORY</td>\n",
              "      <td>NORTHWOOD COMMERCIAL</td>\n",
              "      <td>2759.0</td>\n",
              "      <td>1.6200</td>\n",
              "      <td>105600.0</td>\n",
              "      <td>101000.0</td>\n",
              "      <td>5331 NW 34TH BLVD</td>\n",
              "      <td>06014-005-000</td>\n",
              "    </tr>\n",
              "    <tr>\n",
              "      <th>9</th>\n",
              "      <td>LIVE OAK SHOPPES GROUP LLC</td>\n",
              "      <td>1600.0</td>\n",
              "      <td>SH CTR CMMITY</td>\n",
              "      <td>441 N COMMERCIAL</td>\n",
              "      <td>30350.0</td>\n",
              "      <td>12.8285</td>\n",
              "      <td>977919.0</td>\n",
              "      <td>1300737.0</td>\n",
              "      <td>6250 NW 23RD ST STE 13</td>\n",
              "      <td>06014-030-000</td>\n",
              "    </tr>\n",
              "    <tr>\n",
              "      <th>...</th>\n",
              "      <td>...</td>\n",
              "      <td>...</td>\n",
              "      <td>...</td>\n",
              "      <td>...</td>\n",
              "      <td>...</td>\n",
              "      <td>...</td>\n",
              "      <td>...</td>\n",
              "      <td>...</td>\n",
              "      <td>...</td>\n",
              "      <td>...</td>\n",
              "    </tr>\n",
              "    <tr>\n",
              "      <th>2109</th>\n",
              "      <td>RED CHILLI INC</td>\n",
              "      <td>1100.0</td>\n",
              "      <td>STORES</td>\n",
              "      <td>COMMERCIAL 9-10-20</td>\n",
              "      <td>1494.0</td>\n",
              "      <td>0.9200</td>\n",
              "      <td>37500.0</td>\n",
              "      <td>88595.0</td>\n",
              "      <td>1516 SE 4TH ST</td>\n",
              "      <td>15969-002-000</td>\n",
              "    </tr>\n",
              "    <tr>\n",
              "      <th>2110</th>\n",
              "      <td>JACKSON INDUSTRIES LLC</td>\n",
              "      <td>2900.0</td>\n",
              "      <td>WHOLESALER</td>\n",
              "      <td>COMMERCIAL 9-10-20</td>\n",
              "      <td>22211.0</td>\n",
              "      <td>3.5000</td>\n",
              "      <td>28000.0</td>\n",
              "      <td>373667.0</td>\n",
              "      <td>1111 SE 22ND AVE</td>\n",
              "      <td>16003-000-000</td>\n",
              "    </tr>\n",
              "    <tr>\n",
              "      <th>2112</th>\n",
              "      <td>PRAXAIR DISTRIBUTION SE LLC</td>\n",
              "      <td>1700.0</td>\n",
              "      <td>OFFICE 1 STORY</td>\n",
              "      <td>SE INDUSTRIAL</td>\n",
              "      <td>995.0</td>\n",
              "      <td>0.2877</td>\n",
              "      <td>18801.0</td>\n",
              "      <td>67854.0</td>\n",
              "      <td>933 SE 4TH ST</td>\n",
              "      <td>16035-000-000</td>\n",
              "    </tr>\n",
              "    <tr>\n",
              "      <th>2113</th>\n",
              "      <td>STRAW  JASON</td>\n",
              "      <td>2800.0</td>\n",
              "      <td>PKG LOT (COMM)</td>\n",
              "      <td>SE INDUSTRIAL</td>\n",
              "      <td>0.0</td>\n",
              "      <td>0.3800</td>\n",
              "      <td>24768.0</td>\n",
              "      <td>0.0</td>\n",
              "      <td>900 SE 5TH ST</td>\n",
              "      <td>16039-001-000</td>\n",
              "    </tr>\n",
              "    <tr>\n",
              "      <th>2115</th>\n",
              "      <td>CREVASSE  CAROL A TRUSTEE</td>\n",
              "      <td>2300.0</td>\n",
              "      <td>FINANCIAL</td>\n",
              "      <td>COMMERCIAL</td>\n",
              "      <td>2192.0</td>\n",
              "      <td>1.0100</td>\n",
              "      <td>66000.0</td>\n",
              "      <td>57647.0</td>\n",
              "      <td>2725 SE HAWTHORNE RD</td>\n",
              "      <td>16174-000-000</td>\n",
              "    </tr>\n",
              "  </tbody>\n",
              "</table>\n",
              "<p>1253 rows × 10 columns</p>\n",
              "</div>"
            ],
            "text/plain": [
              "                  Owner_Mail_Name  ...         Parcel\n",
              "0                 WHITNEY MHC LLC  ...  05983-000-000\n",
              "3                       NJ3 LLC    ...  06013-005-006\n",
              "6                  THE PANTRY INC  ...  06014-001-080\n",
              "7                     NW OAKS LLC  ...  06014-005-000\n",
              "9      LIVE OAK SHOPPES GROUP LLC  ...  06014-030-000\n",
              "...                           ...  ...            ...\n",
              "2109               RED CHILLI INC  ...  15969-002-000\n",
              "2110       JACKSON INDUSTRIES LLC  ...  16003-000-000\n",
              "2112  PRAXAIR DISTRIBUTION SE LLC  ...  16035-000-000\n",
              "2113                 STRAW  JASON  ...  16039-001-000\n",
              "2115    CREVASSE  CAROL A TRUSTEE  ...  16174-000-000\n",
              "\n",
              "[1253 rows x 10 columns]"
            ]
          },
          "metadata": {
            "tags": []
          },
          "execution_count": 32
        }
      ]
    },
    {
      "cell_type": "code",
      "metadata": {
        "id": "BmdUziH1XNUi",
        "colab_type": "code",
        "outputId": "3ad21677-d303-4ac0-efd6-3a1242e03c87",
        "colab": {
          "base_uri": "https://localhost:8080/",
          "height": 419
        }
      },
      "source": [
        "sales_hist_df"
      ],
      "execution_count": 0,
      "outputs": [
        {
          "output_type": "execute_result",
          "data": {
            "text/html": [
              "<div>\n",
              "<style scoped>\n",
              "    .dataframe tbody tr th:only-of-type {\n",
              "        vertical-align: middle;\n",
              "    }\n",
              "\n",
              "    .dataframe tbody tr th {\n",
              "        vertical-align: top;\n",
              "    }\n",
              "\n",
              "    .dataframe thead th {\n",
              "        text-align: right;\n",
              "    }\n",
              "</style>\n",
              "<table border=\"1\" class=\"dataframe\">\n",
              "  <thead>\n",
              "    <tr style=\"text-align: right;\">\n",
              "      <th></th>\n",
              "      <th>Date</th>\n",
              "      <th>Price</th>\n",
              "      <th>Vac/Imp</th>\n",
              "      <th>Parcel</th>\n",
              "    </tr>\n",
              "  </thead>\n",
              "  <tbody>\n",
              "    <tr>\n",
              "      <th>0</th>\n",
              "      <td>2013-04-05</td>\n",
              "      <td>3526500</td>\n",
              "      <td>No</td>\n",
              "      <td>05983-000-000</td>\n",
              "    </tr>\n",
              "    <tr>\n",
              "      <th>1</th>\n",
              "      <td>2002-04-19</td>\n",
              "      <td>3000000</td>\n",
              "      <td>No</td>\n",
              "      <td>05983-000-000</td>\n",
              "    </tr>\n",
              "    <tr>\n",
              "      <th>2</th>\n",
              "      <td>1999-08-16</td>\n",
              "      <td>3000000</td>\n",
              "      <td>No</td>\n",
              "      <td>05983-000-000</td>\n",
              "    </tr>\n",
              "    <tr>\n",
              "      <th>3</th>\n",
              "      <td>1970-01-17</td>\n",
              "      <td>100</td>\n",
              "      <td>Vac</td>\n",
              "      <td>05983-000-000</td>\n",
              "    </tr>\n",
              "    <tr>\n",
              "      <th>4</th>\n",
              "      <td>1967-04-12</td>\n",
              "      <td>100</td>\n",
              "      <td>Vac</td>\n",
              "      <td>05983-000-000</td>\n",
              "    </tr>\n",
              "    <tr>\n",
              "      <th>...</th>\n",
              "      <td>...</td>\n",
              "      <td>...</td>\n",
              "      <td>...</td>\n",
              "      <td>...</td>\n",
              "    </tr>\n",
              "    <tr>\n",
              "      <th>5357</th>\n",
              "      <td>1982-04-01</td>\n",
              "      <td>100</td>\n",
              "      <td>Vac</td>\n",
              "      <td>16039-001-000</td>\n",
              "    </tr>\n",
              "    <tr>\n",
              "      <th>5358</th>\n",
              "      <td>2002-12-17</td>\n",
              "      <td>100</td>\n",
              "      <td>No</td>\n",
              "      <td>16174-000-000</td>\n",
              "    </tr>\n",
              "    <tr>\n",
              "      <th>5359</th>\n",
              "      <td>1998-08-20</td>\n",
              "      <td>165000</td>\n",
              "      <td>No</td>\n",
              "      <td>16174-000-000</td>\n",
              "    </tr>\n",
              "    <tr>\n",
              "      <th>5360</th>\n",
              "      <td>1993-06-09</td>\n",
              "      <td>117500</td>\n",
              "      <td>No</td>\n",
              "      <td>16174-000-000</td>\n",
              "    </tr>\n",
              "    <tr>\n",
              "      <th>5361</th>\n",
              "      <td>1981-07-01</td>\n",
              "      <td>75000</td>\n",
              "      <td>Vac</td>\n",
              "      <td>16174-000-000</td>\n",
              "    </tr>\n",
              "  </tbody>\n",
              "</table>\n",
              "<p>5362 rows × 4 columns</p>\n",
              "</div>"
            ],
            "text/plain": [
              "            Date    Price Vac/Imp         Parcel\n",
              "0     2013-04-05  3526500      No  05983-000-000\n",
              "1     2002-04-19  3000000      No  05983-000-000\n",
              "2     1999-08-16  3000000      No  05983-000-000\n",
              "3     1970-01-17      100     Vac  05983-000-000\n",
              "4     1967-04-12      100     Vac  05983-000-000\n",
              "...          ...      ...     ...            ...\n",
              "5357  1982-04-01      100     Vac  16039-001-000\n",
              "5358  2002-12-17      100      No  16174-000-000\n",
              "5359  1998-08-20   165000      No  16174-000-000\n",
              "5360  1993-06-09   117500      No  16174-000-000\n",
              "5361  1981-07-01    75000     Vac  16174-000-000\n",
              "\n",
              "[5362 rows x 4 columns]"
            ]
          },
          "metadata": {
            "tags": []
          },
          "execution_count": 31
        }
      ]
    },
    {
      "cell_type": "code",
      "metadata": {
        "id": "XAjmeG7bVIUQ",
        "colab_type": "code",
        "colab": {}
      },
      "source": [
        "combo_df1 = sales_hist_df.join(comm_df.set_index('Parcel'), on='Parcel', how = 'outer')"
      ],
      "execution_count": 0,
      "outputs": []
    },
    {
      "cell_type": "code",
      "metadata": {
        "id": "nxVAhNrmZmq9",
        "colab_type": "code",
        "outputId": "680d86e4-0ae7-4190-a6bc-db94229c8d91",
        "colab": {
          "base_uri": "https://localhost:8080/",
          "height": 419
        }
      },
      "source": [
        "combo_df1"
      ],
      "execution_count": 0,
      "outputs": [
        {
          "output_type": "execute_result",
          "data": {
            "text/html": [
              "<div>\n",
              "<style scoped>\n",
              "    .dataframe tbody tr th:only-of-type {\n",
              "        vertical-align: middle;\n",
              "    }\n",
              "\n",
              "    .dataframe tbody tr th {\n",
              "        vertical-align: top;\n",
              "    }\n",
              "\n",
              "    .dataframe thead th {\n",
              "        text-align: right;\n",
              "    }\n",
              "</style>\n",
              "<table border=\"1\" class=\"dataframe\">\n",
              "  <thead>\n",
              "    <tr style=\"text-align: right;\">\n",
              "      <th></th>\n",
              "      <th>Date</th>\n",
              "      <th>Price</th>\n",
              "      <th>Vac/Imp</th>\n",
              "      <th>Parcel</th>\n",
              "      <th>Owner_Mail_Name</th>\n",
              "      <th>Prop_Use_Code</th>\n",
              "      <th>Prop_Use_Desc</th>\n",
              "      <th>NBHD_Desc</th>\n",
              "      <th>HtdSqFt</th>\n",
              "      <th>Acres</th>\n",
              "      <th>Land_Value</th>\n",
              "      <th>Improvement_Value</th>\n",
              "      <th>Loc_Address</th>\n",
              "    </tr>\n",
              "  </thead>\n",
              "  <tbody>\n",
              "    <tr>\n",
              "      <th>0</th>\n",
              "      <td>2013-04-05</td>\n",
              "      <td>3526500</td>\n",
              "      <td>No</td>\n",
              "      <td>05983-000-000</td>\n",
              "      <td>WHITNEY MHC LLC</td>\n",
              "      <td>2800.0</td>\n",
              "      <td>PKG LOT (COMM)</td>\n",
              "      <td>441 COMMERCIAL</td>\n",
              "      <td>1512.0</td>\n",
              "      <td>52.41</td>\n",
              "      <td>1972100.0</td>\n",
              "      <td>713900.0</td>\n",
              "      <td>8401 NW 13TH ST LOT T42</td>\n",
              "    </tr>\n",
              "    <tr>\n",
              "      <th>1</th>\n",
              "      <td>2002-04-19</td>\n",
              "      <td>3000000</td>\n",
              "      <td>No</td>\n",
              "      <td>05983-000-000</td>\n",
              "      <td>WHITNEY MHC LLC</td>\n",
              "      <td>2800.0</td>\n",
              "      <td>PKG LOT (COMM)</td>\n",
              "      <td>441 COMMERCIAL</td>\n",
              "      <td>1512.0</td>\n",
              "      <td>52.41</td>\n",
              "      <td>1972100.0</td>\n",
              "      <td>713900.0</td>\n",
              "      <td>8401 NW 13TH ST LOT T42</td>\n",
              "    </tr>\n",
              "    <tr>\n",
              "      <th>2</th>\n",
              "      <td>1999-08-16</td>\n",
              "      <td>3000000</td>\n",
              "      <td>No</td>\n",
              "      <td>05983-000-000</td>\n",
              "      <td>WHITNEY MHC LLC</td>\n",
              "      <td>2800.0</td>\n",
              "      <td>PKG LOT (COMM)</td>\n",
              "      <td>441 COMMERCIAL</td>\n",
              "      <td>1512.0</td>\n",
              "      <td>52.41</td>\n",
              "      <td>1972100.0</td>\n",
              "      <td>713900.0</td>\n",
              "      <td>8401 NW 13TH ST LOT T42</td>\n",
              "    </tr>\n",
              "    <tr>\n",
              "      <th>3</th>\n",
              "      <td>1970-01-17</td>\n",
              "      <td>100</td>\n",
              "      <td>Vac</td>\n",
              "      <td>05983-000-000</td>\n",
              "      <td>WHITNEY MHC LLC</td>\n",
              "      <td>2800.0</td>\n",
              "      <td>PKG LOT (COMM)</td>\n",
              "      <td>441 COMMERCIAL</td>\n",
              "      <td>1512.0</td>\n",
              "      <td>52.41</td>\n",
              "      <td>1972100.0</td>\n",
              "      <td>713900.0</td>\n",
              "      <td>8401 NW 13TH ST LOT T42</td>\n",
              "    </tr>\n",
              "    <tr>\n",
              "      <th>4</th>\n",
              "      <td>1967-04-12</td>\n",
              "      <td>100</td>\n",
              "      <td>Vac</td>\n",
              "      <td>05983-000-000</td>\n",
              "      <td>WHITNEY MHC LLC</td>\n",
              "      <td>2800.0</td>\n",
              "      <td>PKG LOT (COMM)</td>\n",
              "      <td>441 COMMERCIAL</td>\n",
              "      <td>1512.0</td>\n",
              "      <td>52.41</td>\n",
              "      <td>1972100.0</td>\n",
              "      <td>713900.0</td>\n",
              "      <td>8401 NW 13TH ST LOT T42</td>\n",
              "    </tr>\n",
              "    <tr>\n",
              "      <th>...</th>\n",
              "      <td>...</td>\n",
              "      <td>...</td>\n",
              "      <td>...</td>\n",
              "      <td>...</td>\n",
              "      <td>...</td>\n",
              "      <td>...</td>\n",
              "      <td>...</td>\n",
              "      <td>...</td>\n",
              "      <td>...</td>\n",
              "      <td>...</td>\n",
              "      <td>...</td>\n",
              "      <td>...</td>\n",
              "      <td>...</td>\n",
              "    </tr>\n",
              "    <tr>\n",
              "      <th>5357</th>\n",
              "      <td>1982-04-01</td>\n",
              "      <td>100</td>\n",
              "      <td>Vac</td>\n",
              "      <td>16039-001-000</td>\n",
              "      <td>STRAW  JASON</td>\n",
              "      <td>2800.0</td>\n",
              "      <td>PKG LOT (COMM)</td>\n",
              "      <td>SE INDUSTRIAL</td>\n",
              "      <td>0.0</td>\n",
              "      <td>0.38</td>\n",
              "      <td>24768.0</td>\n",
              "      <td>0.0</td>\n",
              "      <td>900 SE 5TH ST</td>\n",
              "    </tr>\n",
              "    <tr>\n",
              "      <th>5358</th>\n",
              "      <td>2002-12-17</td>\n",
              "      <td>100</td>\n",
              "      <td>No</td>\n",
              "      <td>16174-000-000</td>\n",
              "      <td>CREVASSE  CAROL A TRUSTEE</td>\n",
              "      <td>2300.0</td>\n",
              "      <td>FINANCIAL</td>\n",
              "      <td>COMMERCIAL</td>\n",
              "      <td>2192.0</td>\n",
              "      <td>1.01</td>\n",
              "      <td>66000.0</td>\n",
              "      <td>57647.0</td>\n",
              "      <td>2725 SE HAWTHORNE RD</td>\n",
              "    </tr>\n",
              "    <tr>\n",
              "      <th>5359</th>\n",
              "      <td>1998-08-20</td>\n",
              "      <td>165000</td>\n",
              "      <td>No</td>\n",
              "      <td>16174-000-000</td>\n",
              "      <td>CREVASSE  CAROL A TRUSTEE</td>\n",
              "      <td>2300.0</td>\n",
              "      <td>FINANCIAL</td>\n",
              "      <td>COMMERCIAL</td>\n",
              "      <td>2192.0</td>\n",
              "      <td>1.01</td>\n",
              "      <td>66000.0</td>\n",
              "      <td>57647.0</td>\n",
              "      <td>2725 SE HAWTHORNE RD</td>\n",
              "    </tr>\n",
              "    <tr>\n",
              "      <th>5360</th>\n",
              "      <td>1993-06-09</td>\n",
              "      <td>117500</td>\n",
              "      <td>No</td>\n",
              "      <td>16174-000-000</td>\n",
              "      <td>CREVASSE  CAROL A TRUSTEE</td>\n",
              "      <td>2300.0</td>\n",
              "      <td>FINANCIAL</td>\n",
              "      <td>COMMERCIAL</td>\n",
              "      <td>2192.0</td>\n",
              "      <td>1.01</td>\n",
              "      <td>66000.0</td>\n",
              "      <td>57647.0</td>\n",
              "      <td>2725 SE HAWTHORNE RD</td>\n",
              "    </tr>\n",
              "    <tr>\n",
              "      <th>5361</th>\n",
              "      <td>1981-07-01</td>\n",
              "      <td>75000</td>\n",
              "      <td>Vac</td>\n",
              "      <td>16174-000-000</td>\n",
              "      <td>CREVASSE  CAROL A TRUSTEE</td>\n",
              "      <td>2300.0</td>\n",
              "      <td>FINANCIAL</td>\n",
              "      <td>COMMERCIAL</td>\n",
              "      <td>2192.0</td>\n",
              "      <td>1.01</td>\n",
              "      <td>66000.0</td>\n",
              "      <td>57647.0</td>\n",
              "      <td>2725 SE HAWTHORNE RD</td>\n",
              "    </tr>\n",
              "  </tbody>\n",
              "</table>\n",
              "<p>5362 rows × 13 columns</p>\n",
              "</div>"
            ],
            "text/plain": [
              "            Date    Price  ... Improvement_Value              Loc_Address\n",
              "0     2013-04-05  3526500  ...          713900.0  8401 NW 13TH ST LOT T42\n",
              "1     2002-04-19  3000000  ...          713900.0  8401 NW 13TH ST LOT T42\n",
              "2     1999-08-16  3000000  ...          713900.0  8401 NW 13TH ST LOT T42\n",
              "3     1970-01-17      100  ...          713900.0  8401 NW 13TH ST LOT T42\n",
              "4     1967-04-12      100  ...          713900.0  8401 NW 13TH ST LOT T42\n",
              "...          ...      ...  ...               ...                      ...\n",
              "5357  1982-04-01      100  ...               0.0            900 SE 5TH ST\n",
              "5358  2002-12-17      100  ...           57647.0     2725 SE HAWTHORNE RD\n",
              "5359  1998-08-20   165000  ...           57647.0     2725 SE HAWTHORNE RD\n",
              "5360  1993-06-09   117500  ...           57647.0     2725 SE HAWTHORNE RD\n",
              "5361  1981-07-01    75000  ...           57647.0     2725 SE HAWTHORNE RD\n",
              "\n",
              "[5362 rows x 13 columns]"
            ]
          },
          "metadata": {
            "tags": []
          },
          "execution_count": 118
        }
      ]
    },
    {
      "cell_type": "code",
      "metadata": {
        "id": "sAgyd8AySw6Q",
        "colab_type": "code",
        "colab": {}
      },
      "source": [
        "#prop_info has multiple parcel numbers, to avoid creating duplicates on my join I dropped the duplicates and loaded the unique\n",
        "prop_info_unique = prop_info_df.drop_duplicates(subset='Parcel')"
      ],
      "execution_count": 0,
      "outputs": []
    },
    {
      "cell_type": "code",
      "metadata": {
        "id": "wvQCBvG9Z2hN",
        "colab_type": "code",
        "colab": {}
      },
      "source": [
        "combo_df2 = combo_df1.join(prop_info_unique.set_index('Parcel'), on = 'Parcel', how='outer')"
      ],
      "execution_count": 0,
      "outputs": []
    },
    {
      "cell_type": "code",
      "metadata": {
        "id": "HeuFVZMKZ_Et",
        "colab_type": "code",
        "colab": {}
      },
      "source": [
        "combo_df2"
      ],
      "execution_count": 0,
      "outputs": []
    },
    {
      "cell_type": "code",
      "metadata": {
        "id": "HGHdYTz0eZIf",
        "colab_type": "code",
        "colab": {}
      },
      "source": [
        "#grabbing the dropped duplicates for prop info\n",
        "duplicated_prop_info = prop_info_df.loc[prop_info_df['Parcel'].duplicated(), :]"
      ],
      "execution_count": 0,
      "outputs": []
    },
    {
      "cell_type": "code",
      "metadata": {
        "id": "Uxiqh_rTfmVh",
        "colab_type": "code",
        "outputId": "61e2ebae-f244-4381-f1c2-1acf4f3d50b0",
        "colab": {
          "base_uri": "https://localhost:8080/",
          "height": 419
        }
      },
      "source": [
        "#there are still duplicates in this dataset\n",
        "duplicated_prop_info"
      ],
      "execution_count": 0,
      "outputs": [
        {
          "output_type": "execute_result",
          "data": {
            "text/html": [
              "<div>\n",
              "<style scoped>\n",
              "    .dataframe tbody tr th:only-of-type {\n",
              "        vertical-align: middle;\n",
              "    }\n",
              "\n",
              "    .dataframe tbody tr th {\n",
              "        vertical-align: top;\n",
              "    }\n",
              "\n",
              "    .dataframe thead th {\n",
              "        text-align: right;\n",
              "    }\n",
              "</style>\n",
              "<table border=\"1\" class=\"dataframe\">\n",
              "  <thead>\n",
              "    <tr style=\"text-align: right;\">\n",
              "      <th></th>\n",
              "      <th>Land Use Desc</th>\n",
              "      <th>Zoning Type</th>\n",
              "      <th>Zoning Desc</th>\n",
              "      <th>Parcel</th>\n",
              "    </tr>\n",
              "  </thead>\n",
              "  <tbody>\n",
              "    <tr>\n",
              "      <th>1</th>\n",
              "      <td>TRAILER PARK RENTAL</td>\n",
              "      <td>MH</td>\n",
              "      <td>MOBILE HOME 12 UT/AC</td>\n",
              "      <td>05983-000-000</td>\n",
              "    </tr>\n",
              "    <tr>\n",
              "      <th>9</th>\n",
              "      <td>STORE 1 FLOOR</td>\n",
              "      <td>MU2</td>\n",
              "      <td>LAND ZONE: MU2</td>\n",
              "      <td>06014-031-000</td>\n",
              "    </tr>\n",
              "    <tr>\n",
              "      <th>83</th>\n",
              "      <td>OFFICE 1 STORY</td>\n",
              "      <td>PD</td>\n",
              "      <td>PLANNED DEVELOPMENT</td>\n",
              "      <td>06080-000-000</td>\n",
              "    </tr>\n",
              "    <tr>\n",
              "      <th>91</th>\n",
              "      <td>OFFICE 1 STORY</td>\n",
              "      <td>OF</td>\n",
              "      <td>COMMERCIAL</td>\n",
              "      <td>06083-025-001</td>\n",
              "    </tr>\n",
              "    <tr>\n",
              "      <th>230</th>\n",
              "      <td>OFFICE MULTI STORY</td>\n",
              "      <td>BUS</td>\n",
              "      <td>GENERAL BUSINESS</td>\n",
              "      <td>06160-003-000</td>\n",
              "    </tr>\n",
              "    <tr>\n",
              "      <th>...</th>\n",
              "      <td>...</td>\n",
              "      <td>...</td>\n",
              "      <td>...</td>\n",
              "      <td>...</td>\n",
              "    </tr>\n",
              "    <tr>\n",
              "      <th>1282</th>\n",
              "      <td>PROFESSIONAL BLDG</td>\n",
              "      <td>U4</td>\n",
              "      <td>LAND ZONE: U4</td>\n",
              "      <td>14773-000-000</td>\n",
              "    </tr>\n",
              "    <tr>\n",
              "      <th>1303</th>\n",
              "      <td>PARKING LOT COMMERCIAL</td>\n",
              "      <td>U9</td>\n",
              "      <td>LAND ZONE: U9</td>\n",
              "      <td>15493-004-002</td>\n",
              "    </tr>\n",
              "    <tr>\n",
              "      <th>1307</th>\n",
              "      <td>MOTEL</td>\n",
              "      <td>U8</td>\n",
              "      <td>LAND ZONE: U8</td>\n",
              "      <td>15504-000-000</td>\n",
              "    </tr>\n",
              "    <tr>\n",
              "      <th>1311</th>\n",
              "      <td>AUTO SALES</td>\n",
              "      <td>I2</td>\n",
              "      <td>LAND ZONE: I2</td>\n",
              "      <td>15536-004-000</td>\n",
              "    </tr>\n",
              "    <tr>\n",
              "      <th>1321</th>\n",
              "      <td>CONVENIENCE STORE</td>\n",
              "      <td>U9</td>\n",
              "      <td>LAND ZONE: U9</td>\n",
              "      <td>15620-001-000</td>\n",
              "    </tr>\n",
              "  </tbody>\n",
              "</table>\n",
              "<p>96 rows × 4 columns</p>\n",
              "</div>"
            ],
            "text/plain": [
              "               Land Use Desc Zoning Type           Zoning Desc         Parcel\n",
              "1        TRAILER PARK RENTAL          MH  MOBILE HOME 12 UT/AC  05983-000-000\n",
              "9              STORE 1 FLOOR         MU2        LAND ZONE: MU2  06014-031-000\n",
              "83            OFFICE 1 STORY          PD   PLANNED DEVELOPMENT  06080-000-000\n",
              "91            OFFICE 1 STORY          OF            COMMERCIAL  06083-025-001\n",
              "230       OFFICE MULTI STORY         BUS      GENERAL BUSINESS  06160-003-000\n",
              "...                      ...         ...                   ...            ...\n",
              "1282       PROFESSIONAL BLDG          U4         LAND ZONE: U4  14773-000-000\n",
              "1303  PARKING LOT COMMERCIAL          U9         LAND ZONE: U9  15493-004-002\n",
              "1307                   MOTEL          U8         LAND ZONE: U8  15504-000-000\n",
              "1311              AUTO SALES          I2         LAND ZONE: I2  15536-004-000\n",
              "1321       CONVENIENCE STORE          U9         LAND ZONE: U9  15620-001-000\n",
              "\n",
              "[96 rows x 4 columns]"
            ]
          },
          "metadata": {
            "tags": []
          },
          "execution_count": 248
        }
      ]
    },
    {
      "cell_type": "code",
      "metadata": {
        "id": "qW9AEJK0wXne",
        "colab_type": "code",
        "colab": {}
      },
      "source": [
        "#filtering out duplicates in dpi\n",
        "deduped_dpi = duplicated_prop_info.drop_duplicates(subset='Parcel')"
      ],
      "execution_count": 0,
      "outputs": []
    },
    {
      "cell_type": "code",
      "metadata": {
        "id": "IOtyOnNawngV",
        "colab_type": "code",
        "colab": {}
      },
      "source": [
        "#joining my duplicates back in, making sure my rows stay at 5362\n",
        "combo_df4 = combo_df2.join(deduped_dpi.set_index('Parcel'), on = 'Parcel', how='outer', rsuffix='1')"
      ],
      "execution_count": 0,
      "outputs": []
    },
    {
      "cell_type": "code",
      "metadata": {
        "id": "yRbEvUBJwzLL",
        "colab_type": "code",
        "colab": {}
      },
      "source": [
        "#grabbing the dropped duplicates\n",
        "\n",
        "deduped_dpi_dupes = duplicated_prop_info.loc[duplicated_prop_info['Parcel'].duplicated(), :]"
      ],
      "execution_count": 0,
      "outputs": []
    },
    {
      "cell_type": "code",
      "metadata": {
        "id": "pLNCzJ1NyH02",
        "colab_type": "code",
        "outputId": "9d2258a2-75be-45b8-d792-7184021e9f46",
        "colab": {
          "base_uri": "https://localhost:8080/",
          "height": 266
        }
      },
      "source": [
        "#there are still dupes here, need to drop dupes from this\n",
        "deduped_dpi_dupes"
      ],
      "execution_count": 0,
      "outputs": [
        {
          "output_type": "execute_result",
          "data": {
            "text/html": [
              "<div>\n",
              "<style scoped>\n",
              "    .dataframe tbody tr th:only-of-type {\n",
              "        vertical-align: middle;\n",
              "    }\n",
              "\n",
              "    .dataframe tbody tr th {\n",
              "        vertical-align: top;\n",
              "    }\n",
              "\n",
              "    .dataframe thead th {\n",
              "        text-align: right;\n",
              "    }\n",
              "</style>\n",
              "<table border=\"1\" class=\"dataframe\">\n",
              "  <thead>\n",
              "    <tr style=\"text-align: right;\">\n",
              "      <th></th>\n",
              "      <th>Land Use Desc</th>\n",
              "      <th>Zoning Type</th>\n",
              "      <th>Zoning Desc</th>\n",
              "      <th>Parcel</th>\n",
              "    </tr>\n",
              "  </thead>\n",
              "  <tbody>\n",
              "    <tr>\n",
              "      <th>249</th>\n",
              "      <td>HOSPITAL</td>\n",
              "      <td>PD</td>\n",
              "      <td>PLANNED DEVELOPMENT</td>\n",
              "      <td>06340-007-001</td>\n",
              "    </tr>\n",
              "    <tr>\n",
              "      <th>307</th>\n",
              "      <td>PROFESSIONAL BLDG</td>\n",
              "      <td>OF</td>\n",
              "      <td>COMMERCIAL</td>\n",
              "      <td>06474-009-000</td>\n",
              "    </tr>\n",
              "    <tr>\n",
              "      <th>502</th>\n",
              "      <td>AC NON AG &lt; 10</td>\n",
              "      <td>RMF7</td>\n",
              "      <td>RES MULTI FAM</td>\n",
              "      <td>07176-002-000</td>\n",
              "    </tr>\n",
              "    <tr>\n",
              "      <th>707</th>\n",
              "      <td>CONSERVATION EASEMENT</td>\n",
              "      <td>CON</td>\n",
              "      <td>CONSERVATION</td>\n",
              "      <td>08232-000-000</td>\n",
              "    </tr>\n",
              "    <tr>\n",
              "      <th>1071</th>\n",
              "      <td>STORE 1 FLOOR</td>\n",
              "      <td>U7</td>\n",
              "      <td>LAND ZONE: U7</td>\n",
              "      <td>12005-000-000</td>\n",
              "    </tr>\n",
              "    <tr>\n",
              "      <th>1072</th>\n",
              "      <td>VACANT COMMERCIAL</td>\n",
              "      <td>U7</td>\n",
              "      <td>LAND ZONE: U7</td>\n",
              "      <td>12005-000-000</td>\n",
              "    </tr>\n",
              "    <tr>\n",
              "      <th>1099</th>\n",
              "      <td>VACANT COMMERCIAL</td>\n",
              "      <td>DT</td>\n",
              "      <td>LAND ZONE: DT</td>\n",
              "      <td>12938-000-000</td>\n",
              "    </tr>\n",
              "  </tbody>\n",
              "</table>\n",
              "</div>"
            ],
            "text/plain": [
              "              Land Use Desc Zoning Type          Zoning Desc         Parcel\n",
              "249                HOSPITAL          PD  PLANNED DEVELOPMENT  06340-007-001\n",
              "307       PROFESSIONAL BLDG          OF           COMMERCIAL  06474-009-000\n",
              "502          AC NON AG < 10        RMF7        RES MULTI FAM  07176-002-000\n",
              "707   CONSERVATION EASEMENT         CON         CONSERVATION  08232-000-000\n",
              "1071          STORE 1 FLOOR          U7        LAND ZONE: U7  12005-000-000\n",
              "1072      VACANT COMMERCIAL          U7        LAND ZONE: U7  12005-000-000\n",
              "1099      VACANT COMMERCIAL          DT        LAND ZONE: DT  12938-000-000"
            ]
          },
          "metadata": {
            "tags": []
          },
          "execution_count": 252
        }
      ]
    },
    {
      "cell_type": "code",
      "metadata": {
        "id": "mL2_SRnXzsfC",
        "colab_type": "code",
        "colab": {}
      },
      "source": [
        "final_dedupe = deduped_dpi_dupes.drop_duplicates(subset='Parcel')"
      ],
      "execution_count": 0,
      "outputs": []
    },
    {
      "cell_type": "code",
      "metadata": {
        "id": "I7ZcQJhYzze9",
        "colab_type": "code",
        "outputId": "a3d007f3-a3f0-43df-bf8f-a28bbf8a3561",
        "colab": {
          "base_uri": "https://localhost:8080/",
          "height": 235
        }
      },
      "source": [
        "#no more duplicates here\n",
        "final_dedupe"
      ],
      "execution_count": 0,
      "outputs": [
        {
          "output_type": "execute_result",
          "data": {
            "text/html": [
              "<div>\n",
              "<style scoped>\n",
              "    .dataframe tbody tr th:only-of-type {\n",
              "        vertical-align: middle;\n",
              "    }\n",
              "\n",
              "    .dataframe tbody tr th {\n",
              "        vertical-align: top;\n",
              "    }\n",
              "\n",
              "    .dataframe thead th {\n",
              "        text-align: right;\n",
              "    }\n",
              "</style>\n",
              "<table border=\"1\" class=\"dataframe\">\n",
              "  <thead>\n",
              "    <tr style=\"text-align: right;\">\n",
              "      <th></th>\n",
              "      <th>Land Use Desc</th>\n",
              "      <th>Zoning Type</th>\n",
              "      <th>Zoning Desc</th>\n",
              "      <th>Parcel</th>\n",
              "    </tr>\n",
              "  </thead>\n",
              "  <tbody>\n",
              "    <tr>\n",
              "      <th>249</th>\n",
              "      <td>HOSPITAL</td>\n",
              "      <td>PD</td>\n",
              "      <td>PLANNED DEVELOPMENT</td>\n",
              "      <td>06340-007-001</td>\n",
              "    </tr>\n",
              "    <tr>\n",
              "      <th>307</th>\n",
              "      <td>PROFESSIONAL BLDG</td>\n",
              "      <td>OF</td>\n",
              "      <td>COMMERCIAL</td>\n",
              "      <td>06474-009-000</td>\n",
              "    </tr>\n",
              "    <tr>\n",
              "      <th>502</th>\n",
              "      <td>AC NON AG &lt; 10</td>\n",
              "      <td>RMF7</td>\n",
              "      <td>RES MULTI FAM</td>\n",
              "      <td>07176-002-000</td>\n",
              "    </tr>\n",
              "    <tr>\n",
              "      <th>707</th>\n",
              "      <td>CONSERVATION EASEMENT</td>\n",
              "      <td>CON</td>\n",
              "      <td>CONSERVATION</td>\n",
              "      <td>08232-000-000</td>\n",
              "    </tr>\n",
              "    <tr>\n",
              "      <th>1071</th>\n",
              "      <td>STORE 1 FLOOR</td>\n",
              "      <td>U7</td>\n",
              "      <td>LAND ZONE: U7</td>\n",
              "      <td>12005-000-000</td>\n",
              "    </tr>\n",
              "    <tr>\n",
              "      <th>1099</th>\n",
              "      <td>VACANT COMMERCIAL</td>\n",
              "      <td>DT</td>\n",
              "      <td>LAND ZONE: DT</td>\n",
              "      <td>12938-000-000</td>\n",
              "    </tr>\n",
              "  </tbody>\n",
              "</table>\n",
              "</div>"
            ],
            "text/plain": [
              "              Land Use Desc Zoning Type          Zoning Desc         Parcel\n",
              "249                HOSPITAL          PD  PLANNED DEVELOPMENT  06340-007-001\n",
              "307       PROFESSIONAL BLDG          OF           COMMERCIAL  06474-009-000\n",
              "502          AC NON AG < 10        RMF7        RES MULTI FAM  07176-002-000\n",
              "707   CONSERVATION EASEMENT         CON         CONSERVATION  08232-000-000\n",
              "1071          STORE 1 FLOOR          U7        LAND ZONE: U7  12005-000-000\n",
              "1099      VACANT COMMERCIAL          DT        LAND ZONE: DT  12938-000-000"
            ]
          },
          "metadata": {
            "tags": []
          },
          "execution_count": 254
        }
      ]
    },
    {
      "cell_type": "code",
      "metadata": {
        "id": "T8PemX6-x2z4",
        "colab_type": "code",
        "colab": {}
      },
      "source": [
        "#finally got the last duplicate\n",
        "final_dedupe_1 = deduped_dpi_dupes.loc[deduped_dpi_dupes['Parcel'].duplicated(), :]"
      ],
      "execution_count": 0,
      "outputs": []
    },
    {
      "cell_type": "code",
      "metadata": {
        "id": "JodEplA2wriI",
        "colab_type": "code",
        "colab": {}
      },
      "source": [
        "#need to do two more combinations, one for final_dedupe and another for final_dedupe_1\n",
        "combo_df5 = combo_df4.join(final_dedupe.set_index('Parcel'), on = 'Parcel', how='outer', rsuffix='2')\n",
        "sales_propinfo_df = combo_df5.join(final_dedupe_1.set_index('Parcel'), on = 'Parcel', how='outer', rsuffix='3')"
      ],
      "execution_count": 0,
      "outputs": []
    },
    {
      "cell_type": "code",
      "metadata": {
        "id": "8qvKayjexgQV",
        "colab_type": "code",
        "outputId": "ea3d0125-d6af-4031-89cd-6d1f9b51a3b1",
        "colab": {
          "base_uri": "https://localhost:8080/",
          "height": 898
        }
      },
      "source": [
        "sales_propinfo_df"
      ],
      "execution_count": 0,
      "outputs": [
        {
          "output_type": "execute_result",
          "data": {
            "text/html": [
              "<div>\n",
              "<style scoped>\n",
              "    .dataframe tbody tr th:only-of-type {\n",
              "        vertical-align: middle;\n",
              "    }\n",
              "\n",
              "    .dataframe tbody tr th {\n",
              "        vertical-align: top;\n",
              "    }\n",
              "\n",
              "    .dataframe thead th {\n",
              "        text-align: right;\n",
              "    }\n",
              "</style>\n",
              "<table border=\"1\" class=\"dataframe\">\n",
              "  <thead>\n",
              "    <tr style=\"text-align: right;\">\n",
              "      <th></th>\n",
              "      <th>Date</th>\n",
              "      <th>Price</th>\n",
              "      <th>Vac/Imp</th>\n",
              "      <th>Parcel</th>\n",
              "      <th>Owner_Mail_Name</th>\n",
              "      <th>Prop_Use_Code</th>\n",
              "      <th>Prop_Use_Desc</th>\n",
              "      <th>NBHD_Desc</th>\n",
              "      <th>HtdSqFt</th>\n",
              "      <th>Acres</th>\n",
              "      <th>Land_Value</th>\n",
              "      <th>Improvement_Value</th>\n",
              "      <th>Loc_Address</th>\n",
              "      <th>Land Use Desc</th>\n",
              "      <th>Zoning Type</th>\n",
              "      <th>Zoning Desc</th>\n",
              "      <th>Land Use Desc1</th>\n",
              "      <th>Zoning Type1</th>\n",
              "      <th>Zoning Desc1</th>\n",
              "      <th>Land Use Desc2</th>\n",
              "      <th>Zoning Type2</th>\n",
              "      <th>Zoning Desc2</th>\n",
              "      <th>Land Use Desc3</th>\n",
              "      <th>Zoning Type3</th>\n",
              "      <th>Zoning Desc3</th>\n",
              "    </tr>\n",
              "  </thead>\n",
              "  <tbody>\n",
              "    <tr>\n",
              "      <th>0</th>\n",
              "      <td>2013-04-05</td>\n",
              "      <td>3526500</td>\n",
              "      <td>No</td>\n",
              "      <td>05983-000-000</td>\n",
              "      <td>WHITNEY MHC LLC</td>\n",
              "      <td>2800.0</td>\n",
              "      <td>PKG LOT (COMM)</td>\n",
              "      <td>441 COMMERCIAL</td>\n",
              "      <td>1512.0</td>\n",
              "      <td>52.41</td>\n",
              "      <td>1972100.0</td>\n",
              "      <td>713900.0</td>\n",
              "      <td>8401 NW 13TH ST LOT T42</td>\n",
              "      <td>CONSERVATION EASEMENT</td>\n",
              "      <td>CON</td>\n",
              "      <td>CONSERVATION</td>\n",
              "      <td>TRAILER PARK RENTAL</td>\n",
              "      <td>MH</td>\n",
              "      <td>MOBILE HOME 12 UT/AC</td>\n",
              "      <td>NaN</td>\n",
              "      <td>NaN</td>\n",
              "      <td>NaN</td>\n",
              "      <td>NaN</td>\n",
              "      <td>NaN</td>\n",
              "      <td>NaN</td>\n",
              "    </tr>\n",
              "    <tr>\n",
              "      <th>1</th>\n",
              "      <td>2002-04-19</td>\n",
              "      <td>3000000</td>\n",
              "      <td>No</td>\n",
              "      <td>05983-000-000</td>\n",
              "      <td>WHITNEY MHC LLC</td>\n",
              "      <td>2800.0</td>\n",
              "      <td>PKG LOT (COMM)</td>\n",
              "      <td>441 COMMERCIAL</td>\n",
              "      <td>1512.0</td>\n",
              "      <td>52.41</td>\n",
              "      <td>1972100.0</td>\n",
              "      <td>713900.0</td>\n",
              "      <td>8401 NW 13TH ST LOT T42</td>\n",
              "      <td>CONSERVATION EASEMENT</td>\n",
              "      <td>CON</td>\n",
              "      <td>CONSERVATION</td>\n",
              "      <td>TRAILER PARK RENTAL</td>\n",
              "      <td>MH</td>\n",
              "      <td>MOBILE HOME 12 UT/AC</td>\n",
              "      <td>NaN</td>\n",
              "      <td>NaN</td>\n",
              "      <td>NaN</td>\n",
              "      <td>NaN</td>\n",
              "      <td>NaN</td>\n",
              "      <td>NaN</td>\n",
              "    </tr>\n",
              "    <tr>\n",
              "      <th>2</th>\n",
              "      <td>1999-08-16</td>\n",
              "      <td>3000000</td>\n",
              "      <td>No</td>\n",
              "      <td>05983-000-000</td>\n",
              "      <td>WHITNEY MHC LLC</td>\n",
              "      <td>2800.0</td>\n",
              "      <td>PKG LOT (COMM)</td>\n",
              "      <td>441 COMMERCIAL</td>\n",
              "      <td>1512.0</td>\n",
              "      <td>52.41</td>\n",
              "      <td>1972100.0</td>\n",
              "      <td>713900.0</td>\n",
              "      <td>8401 NW 13TH ST LOT T42</td>\n",
              "      <td>CONSERVATION EASEMENT</td>\n",
              "      <td>CON</td>\n",
              "      <td>CONSERVATION</td>\n",
              "      <td>TRAILER PARK RENTAL</td>\n",
              "      <td>MH</td>\n",
              "      <td>MOBILE HOME 12 UT/AC</td>\n",
              "      <td>NaN</td>\n",
              "      <td>NaN</td>\n",
              "      <td>NaN</td>\n",
              "      <td>NaN</td>\n",
              "      <td>NaN</td>\n",
              "      <td>NaN</td>\n",
              "    </tr>\n",
              "    <tr>\n",
              "      <th>3</th>\n",
              "      <td>1970-01-17</td>\n",
              "      <td>100</td>\n",
              "      <td>Vac</td>\n",
              "      <td>05983-000-000</td>\n",
              "      <td>WHITNEY MHC LLC</td>\n",
              "      <td>2800.0</td>\n",
              "      <td>PKG LOT (COMM)</td>\n",
              "      <td>441 COMMERCIAL</td>\n",
              "      <td>1512.0</td>\n",
              "      <td>52.41</td>\n",
              "      <td>1972100.0</td>\n",
              "      <td>713900.0</td>\n",
              "      <td>8401 NW 13TH ST LOT T42</td>\n",
              "      <td>CONSERVATION EASEMENT</td>\n",
              "      <td>CON</td>\n",
              "      <td>CONSERVATION</td>\n",
              "      <td>TRAILER PARK RENTAL</td>\n",
              "      <td>MH</td>\n",
              "      <td>MOBILE HOME 12 UT/AC</td>\n",
              "      <td>NaN</td>\n",
              "      <td>NaN</td>\n",
              "      <td>NaN</td>\n",
              "      <td>NaN</td>\n",
              "      <td>NaN</td>\n",
              "      <td>NaN</td>\n",
              "    </tr>\n",
              "    <tr>\n",
              "      <th>4</th>\n",
              "      <td>1967-04-12</td>\n",
              "      <td>100</td>\n",
              "      <td>Vac</td>\n",
              "      <td>05983-000-000</td>\n",
              "      <td>WHITNEY MHC LLC</td>\n",
              "      <td>2800.0</td>\n",
              "      <td>PKG LOT (COMM)</td>\n",
              "      <td>441 COMMERCIAL</td>\n",
              "      <td>1512.0</td>\n",
              "      <td>52.41</td>\n",
              "      <td>1972100.0</td>\n",
              "      <td>713900.0</td>\n",
              "      <td>8401 NW 13TH ST LOT T42</td>\n",
              "      <td>CONSERVATION EASEMENT</td>\n",
              "      <td>CON</td>\n",
              "      <td>CONSERVATION</td>\n",
              "      <td>TRAILER PARK RENTAL</td>\n",
              "      <td>MH</td>\n",
              "      <td>MOBILE HOME 12 UT/AC</td>\n",
              "      <td>NaN</td>\n",
              "      <td>NaN</td>\n",
              "      <td>NaN</td>\n",
              "      <td>NaN</td>\n",
              "      <td>NaN</td>\n",
              "      <td>NaN</td>\n",
              "    </tr>\n",
              "    <tr>\n",
              "      <th>...</th>\n",
              "      <td>...</td>\n",
              "      <td>...</td>\n",
              "      <td>...</td>\n",
              "      <td>...</td>\n",
              "      <td>...</td>\n",
              "      <td>...</td>\n",
              "      <td>...</td>\n",
              "      <td>...</td>\n",
              "      <td>...</td>\n",
              "      <td>...</td>\n",
              "      <td>...</td>\n",
              "      <td>...</td>\n",
              "      <td>...</td>\n",
              "      <td>...</td>\n",
              "      <td>...</td>\n",
              "      <td>...</td>\n",
              "      <td>...</td>\n",
              "      <td>...</td>\n",
              "      <td>...</td>\n",
              "      <td>...</td>\n",
              "      <td>...</td>\n",
              "      <td>...</td>\n",
              "      <td>...</td>\n",
              "      <td>...</td>\n",
              "      <td>...</td>\n",
              "    </tr>\n",
              "    <tr>\n",
              "      <th>5357</th>\n",
              "      <td>1982-04-01</td>\n",
              "      <td>100</td>\n",
              "      <td>Vac</td>\n",
              "      <td>16039-001-000</td>\n",
              "      <td>STRAW  JASON</td>\n",
              "      <td>2800.0</td>\n",
              "      <td>PKG LOT (COMM)</td>\n",
              "      <td>SE INDUSTRIAL</td>\n",
              "      <td>0.0</td>\n",
              "      <td>0.38</td>\n",
              "      <td>24768.0</td>\n",
              "      <td>0.0</td>\n",
              "      <td>900 SE 5TH ST</td>\n",
              "      <td>PARKING LOT COMMERCIAL</td>\n",
              "      <td>I1</td>\n",
              "      <td>LAND ZONE: I1</td>\n",
              "      <td>NaN</td>\n",
              "      <td>NaN</td>\n",
              "      <td>NaN</td>\n",
              "      <td>NaN</td>\n",
              "      <td>NaN</td>\n",
              "      <td>NaN</td>\n",
              "      <td>NaN</td>\n",
              "      <td>NaN</td>\n",
              "      <td>NaN</td>\n",
              "    </tr>\n",
              "    <tr>\n",
              "      <th>5358</th>\n",
              "      <td>2002-12-17</td>\n",
              "      <td>100</td>\n",
              "      <td>No</td>\n",
              "      <td>16174-000-000</td>\n",
              "      <td>CREVASSE  CAROL A TRUSTEE</td>\n",
              "      <td>2300.0</td>\n",
              "      <td>FINANCIAL</td>\n",
              "      <td>COMMERCIAL</td>\n",
              "      <td>2192.0</td>\n",
              "      <td>1.01</td>\n",
              "      <td>66000.0</td>\n",
              "      <td>57647.0</td>\n",
              "      <td>2725 SE HAWTHORNE RD</td>\n",
              "      <td>FINANCIAL</td>\n",
              "      <td>BUS</td>\n",
              "      <td>GENERAL BUSINESS</td>\n",
              "      <td>NaN</td>\n",
              "      <td>NaN</td>\n",
              "      <td>NaN</td>\n",
              "      <td>NaN</td>\n",
              "      <td>NaN</td>\n",
              "      <td>NaN</td>\n",
              "      <td>NaN</td>\n",
              "      <td>NaN</td>\n",
              "      <td>NaN</td>\n",
              "    </tr>\n",
              "    <tr>\n",
              "      <th>5359</th>\n",
              "      <td>1998-08-20</td>\n",
              "      <td>165000</td>\n",
              "      <td>No</td>\n",
              "      <td>16174-000-000</td>\n",
              "      <td>CREVASSE  CAROL A TRUSTEE</td>\n",
              "      <td>2300.0</td>\n",
              "      <td>FINANCIAL</td>\n",
              "      <td>COMMERCIAL</td>\n",
              "      <td>2192.0</td>\n",
              "      <td>1.01</td>\n",
              "      <td>66000.0</td>\n",
              "      <td>57647.0</td>\n",
              "      <td>2725 SE HAWTHORNE RD</td>\n",
              "      <td>FINANCIAL</td>\n",
              "      <td>BUS</td>\n",
              "      <td>GENERAL BUSINESS</td>\n",
              "      <td>NaN</td>\n",
              "      <td>NaN</td>\n",
              "      <td>NaN</td>\n",
              "      <td>NaN</td>\n",
              "      <td>NaN</td>\n",
              "      <td>NaN</td>\n",
              "      <td>NaN</td>\n",
              "      <td>NaN</td>\n",
              "      <td>NaN</td>\n",
              "    </tr>\n",
              "    <tr>\n",
              "      <th>5360</th>\n",
              "      <td>1993-06-09</td>\n",
              "      <td>117500</td>\n",
              "      <td>No</td>\n",
              "      <td>16174-000-000</td>\n",
              "      <td>CREVASSE  CAROL A TRUSTEE</td>\n",
              "      <td>2300.0</td>\n",
              "      <td>FINANCIAL</td>\n",
              "      <td>COMMERCIAL</td>\n",
              "      <td>2192.0</td>\n",
              "      <td>1.01</td>\n",
              "      <td>66000.0</td>\n",
              "      <td>57647.0</td>\n",
              "      <td>2725 SE HAWTHORNE RD</td>\n",
              "      <td>FINANCIAL</td>\n",
              "      <td>BUS</td>\n",
              "      <td>GENERAL BUSINESS</td>\n",
              "      <td>NaN</td>\n",
              "      <td>NaN</td>\n",
              "      <td>NaN</td>\n",
              "      <td>NaN</td>\n",
              "      <td>NaN</td>\n",
              "      <td>NaN</td>\n",
              "      <td>NaN</td>\n",
              "      <td>NaN</td>\n",
              "      <td>NaN</td>\n",
              "    </tr>\n",
              "    <tr>\n",
              "      <th>5361</th>\n",
              "      <td>1981-07-01</td>\n",
              "      <td>75000</td>\n",
              "      <td>Vac</td>\n",
              "      <td>16174-000-000</td>\n",
              "      <td>CREVASSE  CAROL A TRUSTEE</td>\n",
              "      <td>2300.0</td>\n",
              "      <td>FINANCIAL</td>\n",
              "      <td>COMMERCIAL</td>\n",
              "      <td>2192.0</td>\n",
              "      <td>1.01</td>\n",
              "      <td>66000.0</td>\n",
              "      <td>57647.0</td>\n",
              "      <td>2725 SE HAWTHORNE RD</td>\n",
              "      <td>FINANCIAL</td>\n",
              "      <td>BUS</td>\n",
              "      <td>GENERAL BUSINESS</td>\n",
              "      <td>NaN</td>\n",
              "      <td>NaN</td>\n",
              "      <td>NaN</td>\n",
              "      <td>NaN</td>\n",
              "      <td>NaN</td>\n",
              "      <td>NaN</td>\n",
              "      <td>NaN</td>\n",
              "      <td>NaN</td>\n",
              "      <td>NaN</td>\n",
              "    </tr>\n",
              "  </tbody>\n",
              "</table>\n",
              "<p>5362 rows × 25 columns</p>\n",
              "</div>"
            ],
            "text/plain": [
              "            Date    Price Vac/Imp  ... Land Use Desc3 Zoning Type3  Zoning Desc3\n",
              "0     2013-04-05  3526500      No  ...            NaN          NaN           NaN\n",
              "1     2002-04-19  3000000      No  ...            NaN          NaN           NaN\n",
              "2     1999-08-16  3000000      No  ...            NaN          NaN           NaN\n",
              "3     1970-01-17      100     Vac  ...            NaN          NaN           NaN\n",
              "4     1967-04-12      100     Vac  ...            NaN          NaN           NaN\n",
              "...          ...      ...     ...  ...            ...          ...           ...\n",
              "5357  1982-04-01      100     Vac  ...            NaN          NaN           NaN\n",
              "5358  2002-12-17      100      No  ...            NaN          NaN           NaN\n",
              "5359  1998-08-20   165000      No  ...            NaN          NaN           NaN\n",
              "5360  1993-06-09   117500      No  ...            NaN          NaN           NaN\n",
              "5361  1981-07-01    75000     Vac  ...            NaN          NaN           NaN\n",
              "\n",
              "[5362 rows x 25 columns]"
            ]
          },
          "metadata": {
            "tags": []
          },
          "execution_count": 257
        }
      ]
    },
    {
      "cell_type": "code",
      "metadata": {
        "id": "ixrW1G_pS1R0",
        "colab_type": "code",
        "outputId": "e1bbf34b-1744-4894-aca7-5c0de245fc9c",
        "colab": {
          "base_uri": "https://localhost:8080/",
          "height": 419
        }
      },
      "source": [
        "#combining the final scraped data set\n",
        "year_built_df"
      ],
      "execution_count": 0,
      "outputs": [
        {
          "output_type": "execute_result",
          "data": {
            "text/html": [
              "<div>\n",
              "<style scoped>\n",
              "    .dataframe tbody tr th:only-of-type {\n",
              "        vertical-align: middle;\n",
              "    }\n",
              "\n",
              "    .dataframe tbody tr th {\n",
              "        vertical-align: top;\n",
              "    }\n",
              "\n",
              "    .dataframe thead th {\n",
              "        text-align: right;\n",
              "    }\n",
              "</style>\n",
              "<table border=\"1\" class=\"dataframe\">\n",
              "  <thead>\n",
              "    <tr style=\"text-align: right;\">\n",
              "      <th></th>\n",
              "      <th>Improvement Desc</th>\n",
              "      <th>Actual Year Built</th>\n",
              "      <th>Effective Year Built</th>\n",
              "      <th>Stories</th>\n",
              "      <th>Parcel</th>\n",
              "    </tr>\n",
              "  </thead>\n",
              "  <tbody>\n",
              "    <tr>\n",
              "      <th>0</th>\n",
              "      <td>OFFICE LOW RISE</td>\n",
              "      <td>1973.0</td>\n",
              "      <td>1985.0</td>\n",
              "      <td>1.0</td>\n",
              "      <td>05983-000-000</td>\n",
              "    </tr>\n",
              "    <tr>\n",
              "      <th>1</th>\n",
              "      <td>SERVICE SHOP</td>\n",
              "      <td>1976.0</td>\n",
              "      <td>1976.0</td>\n",
              "      <td>1.0</td>\n",
              "      <td>06013-005-006</td>\n",
              "    </tr>\n",
              "    <tr>\n",
              "      <th>2</th>\n",
              "      <td>SUPERMARKET NBHD/CONV</td>\n",
              "      <td>1976.0</td>\n",
              "      <td>1976.0</td>\n",
              "      <td>1.0</td>\n",
              "      <td>06014-001-080</td>\n",
              "    </tr>\n",
              "    <tr>\n",
              "      <th>3</th>\n",
              "      <td>OFFICE LOW RISE</td>\n",
              "      <td>1981.0</td>\n",
              "      <td>1981.0</td>\n",
              "      <td>1.0</td>\n",
              "      <td>06014-005-000</td>\n",
              "    </tr>\n",
              "    <tr>\n",
              "      <th>4</th>\n",
              "      <td>SH CTR NBRHD</td>\n",
              "      <td>1989.0</td>\n",
              "      <td>1989.0</td>\n",
              "      <td>1.0</td>\n",
              "      <td>06014-030-000</td>\n",
              "    </tr>\n",
              "    <tr>\n",
              "      <th>...</th>\n",
              "      <td>...</td>\n",
              "      <td>...</td>\n",
              "      <td>...</td>\n",
              "      <td>...</td>\n",
              "      <td>...</td>\n",
              "    </tr>\n",
              "    <tr>\n",
              "      <th>1241</th>\n",
              "      <td>SERVICE SHOP</td>\n",
              "      <td>1975.0</td>\n",
              "      <td>1975.0</td>\n",
              "      <td>1.0</td>\n",
              "      <td>15954-009-000</td>\n",
              "    </tr>\n",
              "    <tr>\n",
              "      <th>1242</th>\n",
              "      <td>SUPERMARKET NBHD/CONV</td>\n",
              "      <td>1965.0</td>\n",
              "      <td>1974.0</td>\n",
              "      <td>1.0</td>\n",
              "      <td>15969-002-000</td>\n",
              "    </tr>\n",
              "    <tr>\n",
              "      <th>1243</th>\n",
              "      <td>WAREHOUSE STORAGE</td>\n",
              "      <td>1959.0</td>\n",
              "      <td>1959.0</td>\n",
              "      <td>1.0</td>\n",
              "      <td>16003-000-000</td>\n",
              "    </tr>\n",
              "    <tr>\n",
              "      <th>1244</th>\n",
              "      <td>STORE RETAIL</td>\n",
              "      <td>1973.0</td>\n",
              "      <td>1973.0</td>\n",
              "      <td>1.0</td>\n",
              "      <td>16035-000-000</td>\n",
              "    </tr>\n",
              "    <tr>\n",
              "      <th>1245</th>\n",
              "      <td>OFFICE LOW RISE</td>\n",
              "      <td>1982.0</td>\n",
              "      <td>1985.0</td>\n",
              "      <td>1.0</td>\n",
              "      <td>16174-000-000</td>\n",
              "    </tr>\n",
              "  </tbody>\n",
              "</table>\n",
              "<p>1246 rows × 5 columns</p>\n",
              "</div>"
            ],
            "text/plain": [
              "           Improvement Desc  Actual Year Built  ...  Stories         Parcel\n",
              "0           OFFICE LOW RISE             1973.0  ...      1.0  05983-000-000\n",
              "1              SERVICE SHOP             1976.0  ...      1.0  06013-005-006\n",
              "2     SUPERMARKET NBHD/CONV             1976.0  ...      1.0  06014-001-080\n",
              "3           OFFICE LOW RISE             1981.0  ...      1.0  06014-005-000\n",
              "4              SH CTR NBRHD             1989.0  ...      1.0  06014-030-000\n",
              "...                     ...                ...  ...      ...            ...\n",
              "1241           SERVICE SHOP             1975.0  ...      1.0  15954-009-000\n",
              "1242  SUPERMARKET NBHD/CONV             1965.0  ...      1.0  15969-002-000\n",
              "1243      WAREHOUSE STORAGE             1959.0  ...      1.0  16003-000-000\n",
              "1244           STORE RETAIL             1973.0  ...      1.0  16035-000-000\n",
              "1245        OFFICE LOW RISE             1982.0  ...      1.0  16174-000-000\n",
              "\n",
              "[1246 rows x 5 columns]"
            ]
          },
          "metadata": {
            "tags": []
          },
          "execution_count": 258
        }
      ]
    },
    {
      "cell_type": "code",
      "metadata": {
        "id": "hsZLnOs-aCRS",
        "colab_type": "code",
        "colab": {}
      },
      "source": [
        "county_df = sales_propinfo_df.join(year_built_df.set_index('Parcel'), on = 'Parcel', how='outer')"
      ],
      "execution_count": 0,
      "outputs": []
    },
    {
      "cell_type": "markdown",
      "metadata": {
        "id": "6PnmwDlwFGfF",
        "colab_type": "text"
      },
      "source": [
        "Next steps is getting rid of nan values by working on a concat method for all the columns with numerals (redundant)"
      ]
    },
    {
      "cell_type": "code",
      "metadata": {
        "id": "BWggX5O75bAQ",
        "colab_type": "code",
        "colab": {}
      },
      "source": [
        "#this one creates a series of tests returning values if the selected columns can add up and nulls if they can't\n",
        "county_df['zoning_test1'] = county_df['Zoning Desc'] + ',' + county_df['Zoning Desc1']\n",
        "county_df['zoning_test2'] = county_df['Zoning Desc'] + ',' + county_df['Zoning Desc1'] + ',' + county_df['Zoning Desc2'] \n",
        "county_df['zoning_test3'] = county_df['Zoning Desc'] + ',' + county_df['Zoning Desc1'] + ',' + county_df['Zoning Desc2']+ ',' + county_df['Zoning Desc3']"
      ],
      "execution_count": 0,
      "outputs": []
    },
    {
      "cell_type": "code",
      "metadata": {
        "id": "5djBmNfj-TrO",
        "colab_type": "code",
        "colab": {}
      },
      "source": [
        "#these three fill it until it becomes a single row filled with all potential zoning desc values\n",
        "county_df['test1fill'] = county_df['zoning_test1'].fillna(county_df['Zoning Desc'])\n",
        "county_df['test2fill'] = county_df['zoning_test2'].fillna(county_df['test1fill'])\n",
        "county_df['Zoningdesc'] = county_df['zoning_test2'].fillna(county_df['test2fill'])"
      ],
      "execution_count": 0,
      "outputs": []
    },
    {
      "cell_type": "code",
      "metadata": {
        "id": "a5AsQ2gVFdKv",
        "colab_type": "code",
        "colab": {}
      },
      "source": [
        "dropped_tests = ['Zoning Desc', 'zoning_test1', 'zoning_test2', 'zoning_test3', 'test1fill', 'test2fill']"
      ],
      "execution_count": 0,
      "outputs": []
    },
    {
      "cell_type": "code",
      "metadata": {
        "id": "hlbxVXt1Fv1m",
        "colab_type": "code",
        "colab": {}
      },
      "source": [
        "county_df = county_df.drop(columns = dropped_tests)"
      ],
      "execution_count": 0,
      "outputs": []
    },
    {
      "cell_type": "code",
      "metadata": {
        "id": "eBWvMGaXjcJM",
        "colab_type": "code",
        "colab": {}
      },
      "source": [
        "#for land use desc\n",
        "county_df['zoning_test1'] = county_df['Land Use Desc'] + ',' + county_df['Land Use Desc' + '1']\n",
        "county_df['zoning_test2'] = county_df['Land Use Desc'] + ',' + county_df['Land Use Desc' + '1'] + ',' + county_df['Land Use Desc' + '2'] \n",
        "county_df['zoning_test3'] = county_df['Land Use Desc'] + ',' + county_df['Land Use Desc' + '1'] + ',' + county_df['Land Use Desc' + '2'] + ',' + county_df['Land Use Desc' + '3']\n",
        "county_df['test1fill'] = county_df['zoning_test1'].fillna(county_df['Land Use Desc'])\n",
        "county_df['test2fill'] = county_df['zoning_test2'].fillna(county_df['test1fill'])\n",
        "county_df['Land Use Desc' + 'master'] = county_df['zoning_test2'].fillna(county_df['test2fill'])\n",
        "dropped_tests = ['Land Use Desc', 'zoning_test1', 'zoning_test2', 'zoning_test3', 'test1fill', 'test2fill']\n",
        "county_df = county_df.drop(columns = dropped_tests)"
      ],
      "execution_count": 0,
      "outputs": []
    },
    {
      "cell_type": "code",
      "metadata": {
        "id": "oU5pMRaHjh0E",
        "colab_type": "code",
        "colab": {}
      },
      "source": [
        "other_drops = ['Land Use Desc', 'Land Use Desc1','Land Use Desc2', 'Land Use Desc3', 'Zoning Desc1', 'Zoning Desc2', 'Zoning Desc3']\n",
        "county_df = county_df.drop(columns = other_drops)"
      ],
      "execution_count": 0,
      "outputs": []
    },
    {
      "cell_type": "code",
      "metadata": {
        "id": "x39SjaeTnEgX",
        "colab_type": "code",
        "colab": {}
      },
      "source": [
        "#for land use desc\n",
        "county_df['zoning_test1'] = county_df['Land Use Desc'] + ',' + county_df['Land Use Desc' + '1']\n",
        "county_df['zoning_test2'] = county_df['Land Use Desc'] + ',' + county_df['Land Use Desc' + '1'] + ',' + county_df['Land Use Desc' + '2'] \n",
        "county_df['zoning_test3'] = county_df['Land Use Desc'] + ',' + county_df['Land Use Desc' + '1'] + ',' + county_df['Land Use Desc' + '2'] + ',' + county_df['Land Use Desc' + '3']\n",
        "county_df['test1fill'] = county_df['zoning_test1'].fillna(county_df['Land Use Desc'])\n",
        "county_df['test2fill'] = county_df['zoning_test2'].fillna(county_df['test1fill'])\n",
        "county_df['Land Use Desc' + 'master'] = county_df['zoning_test2'].fillna(county_df['test2fill'])\n",
        "dropped_tests = ['Land Use Desc', 'zoning_test1', 'zoning_test2', 'zoning_test3', 'test1fill', 'test2fill']\n",
        "county_df = county_df.drop(columns = dropped_tests)"
      ],
      "execution_count": 0,
      "outputs": []
    },
    {
      "cell_type": "code",
      "metadata": {
        "id": "JfsbToiUnUTn",
        "colab_type": "code",
        "colab": {}
      },
      "source": [
        "#for Zoning Type\n",
        "county_df['zoning_test1'] = county_df['Zoning Type'] + ',' + county_df['Zoning Type' + '1']\n",
        "county_df['zoning_test2'] = county_df['Zoning Type'] + ',' + county_df['Zoning Type' + '1'] + ',' + county_df['Zoning Type' + '2'] \n",
        "county_df['zoning_test3'] = county_df['Zoning Type'] + ',' + county_df['Zoning Type' + '1'] + ',' + county_df['Zoning Type' + '2'] + ',' + county_df['Zoning Type' + '3']\n",
        "county_df['test1fill'] = county_df['zoning_test1'].fillna(county_df['Zoning Type'])\n",
        "county_df['test2fill'] = county_df['zoning_test2'].fillna(county_df['test1fill'])\n",
        "county_df['Zoning Type' + 'master'] = county_df['zoning_test2'].fillna(county_df['test2fill'])\n",
        "dropped_tests = ['Zoning Type', 'Zoning Type1', 'Zoning Type2', 'Zoning Type3', 'zoning_test1', 'zoning_test2', 'zoning_test3', 'test1fill', 'test2fill']\n",
        "county_df = county_df.drop(columns = dropped_tests)"
      ],
      "execution_count": 0,
      "outputs": []
    },
    {
      "cell_type": "code",
      "metadata": {
        "id": "p3mtK6xXmfn_",
        "colab_type": "code",
        "colab": {}
      },
      "source": [
        "county_df = county_df.rename(columns={\"Zoningdesc\": \"Zoning Desc\", \"Land Use Descmaster\": \"Land Use Desc\", \"Zoning Typemaster\": \"Zoning Type\"})"
      ],
      "execution_count": 0,
      "outputs": []
    },
    {
      "cell_type": "markdown",
      "metadata": {
        "id": "yYRtt1Fso5-i",
        "colab_type": "text"
      },
      "source": [
        "Adding some final extra information to the dataframe"
      ]
    },
    {
      "cell_type": "code",
      "metadata": {
        "id": "iWaOuh3co3v8",
        "colab_type": "code",
        "colab": {}
      },
      "source": [
        "rental_index = pd.read_csv('/content/drive/My Drive/Capstone_3/Extra_Prop_Data/Gainesville_rental_index.csv')\n",
        "fed_funds = pd.read_csv('/content/drive/My Drive/Capstone_3/Extra_Prop_Data/fed-funds-rate-historical-chart.csv')\n",
        "lat_long = pd.read_csv('/content/drive/My Drive/Capstone_3/Extra_Prop_Data/lat_long.csv')"
      ],
      "execution_count": 0,
      "outputs": []
    },
    {
      "cell_type": "code",
      "metadata": {
        "id": "MkxuccTr0Sey",
        "colab_type": "code",
        "colab": {}
      },
      "source": [
        "rental_index"
      ],
      "execution_count": 0,
      "outputs": []
    },
    {
      "cell_type": "markdown",
      "metadata": {
        "id": "lmUS__Q7tQtb",
        "colab_type": "text"
      },
      "source": [
        "Starting with rental index merging on date time month / year"
      ]
    },
    {
      "cell_type": "code",
      "metadata": {
        "id": "aTNJDpZkpag4",
        "colab_type": "code",
        "colab": {}
      },
      "source": [
        "rental_index = rental_index.drop(columns = ['RegionID', 'RegionName', 'State', 'Metro', 'CountyName', 'SizeRank'])"
      ],
      "execution_count": 0,
      "outputs": []
    },
    {
      "cell_type": "code",
      "metadata": {
        "id": "iHszLr0-qMoY",
        "colab_type": "code",
        "colab": {}
      },
      "source": [
        "rental_df = rental_index.T"
      ],
      "execution_count": 0,
      "outputs": []
    },
    {
      "cell_type": "code",
      "metadata": {
        "id": "6ec-EZXtrJDz",
        "colab_type": "code",
        "colab": {}
      },
      "source": [
        "rental_df.reset_index(inplace=True)"
      ],
      "execution_count": 0,
      "outputs": []
    },
    {
      "cell_type": "code",
      "metadata": {
        "id": "5GKCMVo9qYjw",
        "colab_type": "code",
        "colab": {}
      },
      "source": [
        "rental_df = rental_df.rename(columns={\"index\": \"Date\", 0: \"Rental Index\"})"
      ],
      "execution_count": 0,
      "outputs": []
    },
    {
      "cell_type": "code",
      "metadata": {
        "id": "hs5w0ik2r0d2",
        "colab_type": "code",
        "colab": {}
      },
      "source": [
        "from datetime import datetime as dt"
      ],
      "execution_count": 0,
      "outputs": []
    },
    {
      "cell_type": "code",
      "metadata": {
        "id": "n14DwdmGsEJG",
        "colab_type": "code",
        "colab": {}
      },
      "source": [
        "county_df['Date'] = pd.to_datetime(county_df['Date'])"
      ],
      "execution_count": 0,
      "outputs": []
    },
    {
      "cell_type": "code",
      "metadata": {
        "id": "p1F-KWJSsdyv",
        "colab_type": "code",
        "colab": {}
      },
      "source": [
        "rental_df['Date'] = pd.to_datetime(rental_df['Date'])"
      ],
      "execution_count": 0,
      "outputs": []
    },
    {
      "cell_type": "code",
      "metadata": {
        "id": "bssPWyi9xANu",
        "colab_type": "code",
        "colab": {}
      },
      "source": [
        ""
      ],
      "execution_count": 0,
      "outputs": []
    },
    {
      "cell_type": "code",
      "metadata": {
        "id": "zy4Rbji4sho7",
        "colab_type": "code",
        "colab": {}
      },
      "source": [
        "rental_df['Month'] = rental_df['Date'].dt.month\n",
        "rental_df['Year'] = rental_df['Date'].dt.year"
      ],
      "execution_count": 0,
      "outputs": []
    },
    {
      "cell_type": "code",
      "metadata": {
        "id": "ogIAivwUtFGq",
        "colab_type": "code",
        "colab": {}
      },
      "source": [
        "county_df['Month'] = county_df['Date'].dt.month\n",
        "county_df['Year'] = county_df['Date'].dt.year\n",
        "county_df['Day'] = county_df['Date'].dt.day"
      ],
      "execution_count": 0,
      "outputs": []
    },
    {
      "cell_type": "code",
      "metadata": {
        "id": "7KhHoBXst719",
        "colab_type": "code",
        "colab": {}
      },
      "source": [
        "county_time = pd.merge(county_df,rental_df, on=['Month','Year'], how = 'outer')"
      ],
      "execution_count": 0,
      "outputs": []
    },
    {
      "cell_type": "code",
      "metadata": {
        "id": "Rl23QPlbuBXR",
        "colab_type": "code",
        "colab": {}
      },
      "source": [
        "county_time.drop(columns='Date_y', inplace=True)"
      ],
      "execution_count": 0,
      "outputs": []
    },
    {
      "cell_type": "code",
      "metadata": {
        "id": "JGdKI1Cwvstg",
        "colab_type": "code",
        "colab": {}
      },
      "source": [
        "fed_funds['Date'] = pd.to_datetime(fed_funds['date'])"
      ],
      "execution_count": 0,
      "outputs": []
    },
    {
      "cell_type": "code",
      "metadata": {
        "id": "JNKC-T--vO6e",
        "colab_type": "code",
        "colab": {}
      },
      "source": [
        "fed_funds['Day'] = fed_funds['Date'].dt.day\n",
        "fed_funds['Month'] = fed_funds['Date'].dt.month\n",
        "fed_funds['Year'] = fed_funds['Date'].dt.year\n",
        "feds = fed_funds.drop(columns= ['date', 'Date'])"
      ],
      "execution_count": 0,
      "outputs": []
    },
    {
      "cell_type": "code",
      "metadata": {
        "id": "36S2c40UwAfj",
        "colab_type": "code",
        "colab": {}
      },
      "source": [
        "fed_county_time = pd.merge(county_time,feds, on=['Month','Year','Day'], how = 'left')"
      ],
      "execution_count": 0,
      "outputs": []
    },
    {
      "cell_type": "code",
      "metadata": {
        "id": "qrGnBmDGwUHE",
        "colab_type": "code",
        "colab": {}
      },
      "source": [
        "fed_county_time = fed_county_time.rename(columns = {' value' : 'fed_int_rate'})"
      ],
      "execution_count": 0,
      "outputs": []
    },
    {
      "cell_type": "code",
      "metadata": {
        "id": "22NiQv58yVVf",
        "colab_type": "code",
        "colab": {}
      },
      "source": [
        "needlesscolumns = ['OBJECTID', 'Prop_ID', 'STATEDAREA', 'MAPSHEET', 'LASTEDITOR', 'LASTUPDATE', 'Owner_Mail_Name', \n",
        "                   'Owner_Mail_Addr2', 'Owner_Mail_City', 'Owner_Mail_State', 'Owner_Mail_Zip', 'FULLADDR', 'INC_MUNI', 'POST_CODE', 'STATE', 'Shape__Area', 'Shape__Length']"
      ],
      "execution_count": 0,
      "outputs": []
    },
    {
      "cell_type": "code",
      "metadata": {
        "id": "aKAXBQ6hyloA",
        "colab_type": "code",
        "colab": {}
      },
      "source": [
        "latlong = lat_long.drop(columns = needlesscolumns)"
      ],
      "execution_count": 0,
      "outputs": []
    },
    {
      "cell_type": "code",
      "metadata": {
        "id": "gAoYY86PzO-6",
        "colab_type": "code",
        "colab": {}
      },
      "source": [
        "latlong_drop = latlong.drop_duplicates(subset='Parcel')"
      ],
      "execution_count": 0,
      "outputs": []
    },
    {
      "cell_type": "code",
      "metadata": {
        "id": "mvpr2GPJy2fe",
        "colab_type": "code",
        "colab": {}
      },
      "source": [
        "latlong.rename(columns = {'PARCEL' : 'Parcel'}, inplace=True)"
      ],
      "execution_count": 0,
      "outputs": []
    },
    {
      "cell_type": "code",
      "metadata": {
        "id": "q8MDyVNdytDk",
        "colab_type": "code",
        "colab": {}
      },
      "source": [
        "commercial_df = fed_county_time.join(latlong_drop.set_index('Parcel'), on='Parcel', how = 'left')"
      ],
      "execution_count": 0,
      "outputs": []
    },
    {
      "cell_type": "code",
      "metadata": {
        "id": "ZODVTkFszBUM",
        "colab_type": "code",
        "colab": {}
      },
      "source": [
        "commercial_df.to_csv('/content/drive/My Drive/Capstone_3/commercial.csv', index=False)"
      ],
      "execution_count": 0,
      "outputs": []
    },
    {
      "cell_type": "code",
      "metadata": {
        "id": "dY9X6nRQ7b_1",
        "colab_type": "code",
        "outputId": "6706d3c1-b76f-4423-f73f-7ab0dde66314",
        "colab": {
          "base_uri": "https://localhost:8080/",
          "height": 561
        }
      },
      "source": [
        "commercial_df.info()"
      ],
      "execution_count": 0,
      "outputs": [
        {
          "output_type": "stream",
          "text": [
            "<class 'pandas.core.frame.DataFrame'>\n",
            "Int64Index: 5362 entries, 0 to 5361\n",
            "Data columns (total 27 columns):\n",
            "Date_x                  5362 non-null datetime64[ns]\n",
            "Price                   5362 non-null int64\n",
            "Vac/Imp                 5362 non-null object\n",
            "Parcel                  5362 non-null object\n",
            "Owner_Mail_Name         5350 non-null object\n",
            "Prop_Use_Code           5352 non-null float64\n",
            "Prop_Use_Desc           5352 non-null object\n",
            "NBHD_Desc               5352 non-null object\n",
            "HtdSqFt                 5352 non-null float64\n",
            "Acres                   5352 non-null float64\n",
            "Land_Value              5351 non-null float64\n",
            "Improvement_Value       5351 non-null float64\n",
            "Loc_Address             5012 non-null object\n",
            "Improvement Desc        5330 non-null object\n",
            "Actual Year Built       5194 non-null float64\n",
            "Effective Year Built    5194 non-null float64\n",
            "Stories                 5194 non-null float64\n",
            "Zoning Desc             5313 non-null object\n",
            "Land Use Desc           5362 non-null object\n",
            "Zoning Type             5313 non-null object\n",
            "Month                   5362 non-null int64\n",
            "Year                    5362 non-null int64\n",
            "Day                     5362 non-null int64\n",
            "Rental Index            1094 non-null float64\n",
            "fed_int_rate            5342 non-null float64\n",
            "LATITUDE                5339 non-null float64\n",
            "LONGITUDE               5339 non-null float64\n",
            "dtypes: datetime64[ns](1), float64(12), int64(4), object(10)\n",
            "memory usage: 1.1+ MB\n"
          ],
          "name": "stdout"
        }
      ]
    }
  ]
}